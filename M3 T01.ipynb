{
 "cells": [
  {
   "cell_type": "markdown",
   "id": "7dadabfc",
   "metadata": {},
   "source": [
    "# Exercici 1\n",
    "## Crea una funció que donat un Array d’una dimensió, et faci un resum estadístic bàsic de les dades. Si detecta que l’array té més d’una dimensió, ha de mostrar un missatge d’error."
   ]
  },
  {
   "cell_type": "code",
   "execution_count": 1,
   "id": "a76b5305",
   "metadata": {},
   "outputs": [],
   "source": [
    "import pandas as pd"
   ]
  },
  {
   "cell_type": "code",
   "execution_count": 41,
   "id": "90f50924",
   "metadata": {},
   "outputs": [],
   "source": [
    "def datos_stat(arr):\n",
    "    if arr.ndim > 1:\n",
    "        print(\"El array es multidimensional\")\n",
    "        return\n",
    "    else:\n",
    "        s = pd.Series(arr)\n",
    "        resumen = s.describe()\n",
    "        return resumen"
   ]
  },
  {
   "cell_type": "code",
   "execution_count": 42,
   "id": "5af8c1d6",
   "metadata": {},
   "outputs": [],
   "source": [
    "import numpy as np"
   ]
  },
  {
   "cell_type": "code",
   "execution_count": 43,
   "id": "01e82f7b",
   "metadata": {},
   "outputs": [],
   "source": [
    "from numpy import random"
   ]
  },
  {
   "cell_type": "code",
   "execution_count": 49,
   "id": "f5dc709a",
   "metadata": {},
   "outputs": [
    {
     "name": "stdout",
     "output_type": "stream",
     "text": [
      "A= [15 16  9 17  4 19  0 12 13  2]\n",
      "B= [[ 8 12  2]\n",
      " [ 7 11  3]]\n"
     ]
    }
   ],
   "source": [
    "A = random.randint(20, size=(10))\n",
    "B = random.randint(20, size=(2,3))\n",
    "print(\"A=\", A)\n",
    "print(\"B=\", B)"
   ]
  },
  {
   "cell_type": "code",
   "execution_count": 50,
   "id": "caf97f07",
   "metadata": {},
   "outputs": [
    {
     "data": {
      "text/plain": [
       "count    10.0000\n",
       "mean     10.7000\n",
       "std       6.6675\n",
       "min       0.0000\n",
       "25%       5.2500\n",
       "50%      12.5000\n",
       "75%      15.7500\n",
       "max      19.0000\n",
       "dtype: float64"
      ]
     },
     "execution_count": 50,
     "metadata": {},
     "output_type": "execute_result"
    }
   ],
   "source": [
    "datos_stat(A)"
   ]
  },
  {
   "cell_type": "code",
   "execution_count": 51,
   "id": "4dc49b42",
   "metadata": {},
   "outputs": [
    {
     "name": "stdout",
     "output_type": "stream",
     "text": [
      "El array es multidimensional\n"
     ]
    }
   ],
   "source": [
    "datos_stat(B)"
   ]
  },
  {
   "cell_type": "markdown",
   "id": "df4de142",
   "metadata": {},
   "source": [
    "# Exercici 2\n",
    "## Crea una funció que et generi un quadrat NxN de nombres aleatoris entre el 0 i el 100."
   ]
  },
  {
   "cell_type": "code",
   "execution_count": 77,
   "id": "7f8329eb",
   "metadata": {},
   "outputs": [
    {
     "name": "stdout",
     "output_type": "stream",
     "text": [
      "Qué dimension N quieres para hacer una tabla aleatoria NxN?5\n"
     ]
    },
    {
     "data": {
      "text/plain": [
       "array([[29, 27, 78, 86, 86],\n",
       "       [50, 33, 18, 69, 91],\n",
       "       [90, 26,  8, 62, 17],\n",
       "       [88, 64, 41, 20, 78],\n",
       "       [44, 26, 17, 29, 13]])"
      ]
     },
     "execution_count": 77,
     "metadata": {},
     "output_type": "execute_result"
    }
   ],
   "source": [
    "N = int(input(\"Qué dimension N quieres para hacer una tabla aleatoria NxN?\"))\n",
    "Tab1 = np.random.randint(100, size=(N,N))\n",
    "Tab1"
   ]
  },
  {
   "cell_type": "markdown",
   "id": "2337524c",
   "metadata": {},
   "source": [
    "# Exercici 3\n",
    "## Crea una funció que donada una taula de dues dimensions (NxM), et calculi els totals per fila i els totals per columna."
   ]
  },
  {
   "cell_type": "markdown",
   "id": "97df61fd",
   "metadata": {},
   "source": [
    "Aquí la función:"
   ]
  },
  {
   "cell_type": "code",
   "execution_count": 82,
   "id": "196334a1",
   "metadata": {},
   "outputs": [],
   "source": [
    "def totals(tabla):\n",
    "    Txfila = np.sum(tabla, axis = 1)\n",
    "    Txcol = np.sum(tabla, axis = 0)\n",
    "    print(\"total por filas: \", Txfila)\n",
    "    print(\"total por columnas: \", Txcol)"
   ]
  },
  {
   "cell_type": "markdown",
   "id": "7abaf012",
   "metadata": {},
   "source": [
    "Lo compruebo sobre la tabla anterior NxN, ya que la tengo."
   ]
  },
  {
   "cell_type": "code",
   "execution_count": 83,
   "id": "00545043",
   "metadata": {},
   "outputs": [
    {
     "name": "stdout",
     "output_type": "stream",
     "text": [
      "total por filas:  [306 261 203 291 129]\n",
      "total por columnas:  [301 176 162 266 285]\n"
     ]
    }
   ],
   "source": [
    "totals(Tab1)"
   ]
  },
  {
   "cell_type": "markdown",
   "id": "a73941eb",
   "metadata": {},
   "source": [
    "Y ahora hago una tabla NXM para comprobar que funciona tambien, preguntando para practicar:"
   ]
  },
  {
   "cell_type": "code",
   "execution_count": 84,
   "id": "e5c89885",
   "metadata": {},
   "outputs": [
    {
     "name": "stdout",
     "output_type": "stream",
     "text": [
      "Qué dimension N quieres para hacer una tabla aleatoria NxM?3\n",
      "Qué dimension M quieres para hacer una tabla aleatoria NxM?5\n"
     ]
    },
    {
     "data": {
      "text/plain": [
       "array([[86, 43,  6, 30, 18],\n",
       "       [ 0, 46, 13, 30, 88],\n",
       "       [36, 44, 94, 77, 24]])"
      ]
     },
     "execution_count": 84,
     "metadata": {},
     "output_type": "execute_result"
    }
   ],
   "source": [
    "N = int(input(\"Qué dimension N quieres para hacer una tabla aleatoria NxM?\"))\n",
    "M = int(input(\"Qué dimension M quieres para hacer una tabla aleatoria NxM?\"))\n",
    "Tab2 = np.random.randint(100, size=(N,M))\n",
    "Tab2"
   ]
  },
  {
   "cell_type": "code",
   "execution_count": 85,
   "id": "f3771db6",
   "metadata": {},
   "outputs": [
    {
     "name": "stdout",
     "output_type": "stream",
     "text": [
      "total por filas:  [183 177 275]\n",
      "total por columnas:  [122 133 113 137 130]\n"
     ]
    }
   ],
   "source": [
    "totals(Tab2)"
   ]
  },
  {
   "cell_type": "markdown",
   "id": "8bd6d2d3",
   "metadata": {},
   "source": [
    "# Exercici 4\n",
    "## Implementa manualment una funció que calculi el coeficient de correlació. Informa-te'n sobre els seus usos i interpretació."
   ]
  },
  {
   "cell_type": "markdown",
   "id": "f18db6a8",
   "metadata": {},
   "source": [
    "El coeficiente de correlación, establece cuan fuerte es la relación entre las variables de una tabla (entre -1 y +1), y si esa relación es directa (positiva), inversa (negativa), o nula (=0).\n",
    "\n",
    "Debemos tener en cuneta que calcula el coeficiente de correlación de Pearson, es decir, que funciona si dicha correlación entre las variables tiende a ser lineal.\n",
    "\n",
    "Dicho de otro modo, mide la tendencia al cambio de una variable cuando cambia otra sin tener en cuenta la causalidad y considernado que dicha tendencia es lineal.\n",
    "\n",
    "Nota: Es bueno hacer el gráfico de dispersión para observar si hay datos fuera de rango (a ser eliminados) o si la relación no es lineal y requiere otro tipo de análisis de correlación más adecuado que el de Pearson.\n",
    "\n",
    "La función de Pandas para ello es corr()\n",
    "\n",
    "Si queremos hacerlo con una función programada, es decir, sin usar corr(), tenemos que tener en cuenta que su definición:\n"
   ]
  },
  {
   "cell_type": "markdown",
   "id": "d126515e",
   "metadata": {},
   "source": [
    "$$r=\\frac{Covarianza(X,Y)}{Dev_{tipica}(X)Dev_{tipica}(Y)}=\\frac{Covarianza(X,Y)}{\\sqrt{Varianza(X))}\\sqrt{Varianza(Y))}}$$"
   ]
  },
  {
   "cell_type": "markdown",
   "id": "3045f224",
   "metadata": {},
   "source": [
    "Es decir:"
   ]
  },
  {
   "cell_type": "markdown",
   "id": "aa4ac03f",
   "metadata": {},
   "source": [
    "Definimos como Varinaza:\n",
    "$${\\sigma _{x}}^{2}=\\frac{\\sum {x_{i}}^{2}.f_{i}}{N}-\\bar{X}^{2}$$\n",
    "$${\\sigma _{y}}^{2}=\\frac{\\sum {y_{i}}^{2}.f_{i}}{N}-\\bar{Y}^{2}$$\n",
    "Siendo la Desviación típica: ${\\sigma _{x}}=\\sqrt{{\\sigma _{x}}^{2}}$; ${\\sigma _{y}}=\\sqrt{{\\sigma _{y}}^{2}}$"
   ]
  },
  {
   "cell_type": "markdown",
   "id": "49fee404",
   "metadata": {},
   "source": [
    "Y la Covarianza:\n",
    "$${\\sigma _{xy}}=\\frac{\\sum {x_{i}.y_{i}}.f_{i}}{N}-\\bar{X}.\\bar{Y}$$"
   ]
  },
  {
   "cell_type": "markdown",
   "id": "bf245eec",
   "metadata": {},
   "source": [
    "Donde $N=\\sum f_{i}$, siendo por tanto:\n",
    "- la cantidad de valores correspondientes a X o a Y, si son datos sin agrupar $(f_{i}=1)$\n",
    "- la suma de las frecunecias de los valores si son datos agrupados $(f_{i}\\neq 1)$\n",
    "\n",
    "Calculando las medias como:\n",
    "$$\\bar{X}=\\frac{\\sum {x_{i}}.f_{i}}{N}$$\n",
    "$$\\bar{Y}=\\frac{\\sum {y_{i}}.f_{i}}{N}$$"
   ]
  },
  {
   "cell_type": "markdown",
   "id": "1ac6e928",
   "metadata": {},
   "source": [
    "La correlación se peude definir tambien como:\n",
    "$$r=\\frac{\\sum [(x_{i}-\\bar{X}).(y_{i}-\\bar{Y})]}{\\sqrt{\\sum (x_{i}-\\bar{X})^{2}}.{\\sqrt{\\sum (y_{i}-\\bar{Y})^{2}}}}$$"
   ]
  },
  {
   "cell_type": "markdown",
   "id": "22e3684c",
   "metadata": {},
   "source": [
    "## 1) Funcion pura de cálculo de r en datos sin agrupar"
   ]
  },
  {
   "cell_type": "code",
   "execution_count": 39,
   "id": "24c59af2",
   "metadata": {},
   "outputs": [],
   "source": [
    "def calc_corr(X, Y):\n",
    "    N = len(X)\n",
    "    media_X = sum(X) / N\n",
    "    media_Y = sum(Y) / N\n",
    "    CovXY = sum((xi - media_X)*(yi - media_Y) for xi, yi in zip(X, Y))\n",
    "    sdev1 = (sum((xi - media_X)**2 for xi in X))**0.5\n",
    "    sdev2 = (sum((yi - media_Y)**2 for yi in Y))**0.5\n",
    "    r = round(CovXY / (sdev1 * sdev2),2)\n",
    "    return r"
   ]
  },
  {
   "cell_type": "markdown",
   "id": "b472bf4a",
   "metadata": {},
   "source": [
    "Vamos a hacer un ejemplo y su inverso para asegurar que es correcto:"
   ]
  },
  {
   "cell_type": "code",
   "execution_count": 40,
   "id": "3abf83b9",
   "metadata": {},
   "outputs": [
    {
     "name": "stdout",
     "output_type": "stream",
     "text": [
      "X= [1, 2, 3, 4, 5, 6, 7, 8, 9, 10]\n",
      "Y= [2, 4, 6, 8, 10, 12, 14, 16, 18, 20]\n"
     ]
    }
   ],
   "source": [
    "X = list(range(1, 11))\n",
    "Y = [2*x for x in X]\n",
    "print (\"X=\",X)\n",
    "print (\"Y=\",Y)"
   ]
  },
  {
   "cell_type": "code",
   "execution_count": 41,
   "id": "67713d39",
   "metadata": {},
   "outputs": [
    {
     "name": "stdout",
     "output_type": "stream",
     "text": [
      "El coef de correlación de Pearson entre X e Y es: 1.0\n"
     ]
    }
   ],
   "source": [
    "print(\"El coef de correlación de Pearson entre X e Y es:\",calc_corr(X,Y))"
   ]
  },
  {
   "cell_type": "code",
   "execution_count": 42,
   "id": "19ac5808",
   "metadata": {},
   "outputs": [
    {
     "name": "stdout",
     "output_type": "stream",
     "text": [
      "X1= [1, 2, 3, 4, 5, 6, 7, 8, 9, 10]\n",
      "Y1= [20, 18, 16, 14, 12, 10, 8, 6, 4, 2]\n"
     ]
    }
   ],
   "source": [
    "X1 = list(range(1, 11))\n",
    "Y1 = list(reversed([2*x for x in X1]))\n",
    "print (\"X1=\",X1)\n",
    "print (\"Y1=\",Y1)"
   ]
  },
  {
   "cell_type": "code",
   "execution_count": 43,
   "id": "77f453b5",
   "metadata": {},
   "outputs": [
    {
     "name": "stdout",
     "output_type": "stream",
     "text": [
      "El coef de correlación de Pearson entre X e Y es: -1.0\n"
     ]
    }
   ],
   "source": [
    "print(\"El coef de correlación de Pearson entre X e Y es:\",calc_corr(X1,Y1))"
   ]
  },
  {
   "cell_type": "markdown",
   "id": "0bdf6305",
   "metadata": {},
   "source": [
    "## 2) hagámoslo con corr()\n",
    "Convertiremos primero las listas en un Dataframe, y luego aplicamos la función de pandas:"
   ]
  },
  {
   "cell_type": "code",
   "execution_count": 44,
   "id": "06189b98",
   "metadata": {},
   "outputs": [],
   "source": [
    "import pandas as pd"
   ]
  },
  {
   "cell_type": "code",
   "execution_count": 45,
   "id": "891c8a9a",
   "metadata": {},
   "outputs": [
    {
     "name": "stdout",
     "output_type": "stream",
     "text": [
      "El coef de correlación de Pearson entre X e Y es: 1.0\n"
     ]
    }
   ],
   "source": [
    "df = pd.DataFrame({\"X\" : X, \"Y\" :Y})\n",
    "r1 = df[\"X\"].corr(df[\"Y\"]).round(2)\n",
    "print(\"El coef de correlación de Pearson entre X e Y es:\", r1)"
   ]
  },
  {
   "cell_type": "code",
   "execution_count": 46,
   "id": "274b5736",
   "metadata": {},
   "outputs": [
    {
     "name": "stdout",
     "output_type": "stream",
     "text": [
      "El coef de correlación de Pearson entre X1 e Y1 es: -1.0\n"
     ]
    }
   ],
   "source": [
    "df = pd.DataFrame({\"X1\" : X1, \"Y1\" :Y1})\n",
    "r1 = df[\"X1\"].corr(df[\"Y1\"]).round(2)\n",
    "print(\"El coef de correlación de Pearson entre X1 e Y1 es:\", r1)"
   ]
  },
  {
   "cell_type": "markdown",
   "id": "fbf179b7",
   "metadata": {},
   "source": [
    "## 3) Cuando las columnas representan los datos, y las filas las frecuencia, tenemos que crear una matriz de correlación\n",
    "Primero creamos la matriz, luego la convertimos en un dataframe de pandas y luego aplicamos la función:"
   ]
  },
  {
   "cell_type": "code",
   "execution_count": 56,
   "id": "b77690e6",
   "metadata": {},
   "outputs": [
    {
     "name": "stdout",
     "output_type": "stream",
     "text": [
      "   Ana  Juan  María\n",
      "0    5     6      7\n",
      "1    8     9      8\n",
      "2    7     5      9\n",
      "3   10     3     10\n"
     ]
    }
   ],
   "source": [
    "import pandas as pd\n",
    "datos = {'Ana': [5, 8, 7, 10], 'Juan': [6, 9, 5, 3], 'María': [7, 8, 9, 10]}\n",
    "df = pd.DataFrame(datos)\n",
    "print(df)"
   ]
  },
  {
   "cell_type": "code",
   "execution_count": 57,
   "id": "e5a3d5e8",
   "metadata": {},
   "outputs": [
    {
     "name": "stdout",
     "output_type": "stream",
     "text": [
      "            Ana      Juan     María\n",
      "Ana    1.000000 -0.352282  0.868243\n",
      "Juan  -0.352282  1.000000 -0.671317\n",
      "María  0.868243 -0.671317  1.000000\n"
     ]
    }
   ],
   "source": [
    "r2 = df.corr()\n",
    "print(r2)"
   ]
  },
  {
   "cell_type": "code",
   "execution_count": null,
   "id": "09e502f9",
   "metadata": {},
   "outputs": [],
   "source": []
  },
  {
   "cell_type": "code",
   "execution_count": null,
   "id": "18604b21",
   "metadata": {},
   "outputs": [],
   "source": []
  }
 ],
 "metadata": {
  "kernelspec": {
   "display_name": "Python 3 (ipykernel)",
   "language": "python",
   "name": "python3"
  },
  "language_info": {
   "codemirror_mode": {
    "name": "ipython",
    "version": 3
   },
   "file_extension": ".py",
   "mimetype": "text/x-python",
   "name": "python",
   "nbconvert_exporter": "python",
   "pygments_lexer": "ipython3",
   "version": "3.9.12"
  }
 },
 "nbformat": 4,
 "nbformat_minor": 5
}
