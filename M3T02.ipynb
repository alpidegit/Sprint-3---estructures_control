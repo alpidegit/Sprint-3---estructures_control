{
 "cells": [
  {
   "attachments": {
    "image.png": {
     "image/png": "[encoded data removed]"
    }
   },
   "cell_type": "markdown",
   "id": "412b0e07",
   "metadata": {},
   "source": [
    "# Exercici 1\n",
    "## Descarrega el data set Airlines Delay: Airline on-time statistics and delay causes i carrega’l a un Pandas Dataframe. Explora les dades que conté, explica breument quines variables hi ha i queda’t únicament amb les columnes que consideris rellevants. Justifica la teva elecció.\n",
    "\n",
    "## ->[Airlines Delay: Airline on-time statistics and delay causes](https://www.kaggle.com/datasets/giovamata/airlinedelaycauses)\n",
    "\n",
    "![image.png](attachment:image.png)"
   ]
  },
  {
   "cell_type": "code",
   "execution_count": 1,
   "id": "f247862a",
   "metadata": {},
   "outputs": [],
   "source": [
    "import pandas as pd\n",
    "import numpy as np\n",
    "import seaborn as sns\n",
    "import matplotlib.pyplot as plt"
   ]
  },
  {
   "cell_type": "markdown",
   "id": "4d57fa8d",
   "metadata": {},
   "source": [
    "### 1) Importamos el fichero:"
   ]
  },
  {
   "cell_type": "markdown",
   "id": "c623a27e",
   "metadata": {},
   "source": [
    "Antes de imporntar el fichero, vamos a pedir que todos los valores de los dataframe con coma flotante se muestren como enteros:"
   ]
  },
  {
   "cell_type": "code",
   "execution_count": 2,
   "id": "5a7d724a",
   "metadata": {},
   "outputs": [],
   "source": [
    "pd.options.display.float_format = '{:.0f}'.format"
   ]
  },
  {
   "cell_type": "markdown",
   "id": "15b27fc8",
   "metadata": {},
   "source": [
    "Importamos el fichero:"
   ]
  },
  {
   "cell_type": "code",
   "execution_count": 3,
   "id": "3ce01725",
   "metadata": {},
   "outputs": [
    {
     "data": {
      "text/html": [
       "<div>\n",
       "<style scoped>\n",
       "    .dataframe tbody tr th:only-of-type {\n",
       "        vertical-align: middle;\n",
       "    }\n",
       "\n",
       "    .dataframe tbody tr th {\n",
       "        vertical-align: top;\n",
       "    }\n",
       "\n",
       "    .dataframe thead th {\n",
       "        text-align: right;\n",
       "    }\n",
       "</style>\n",
       "<table border=\"1\" class=\"dataframe\">\n",
       "  <thead>\n",
       "    <tr style=\"text-align: right;\">\n",
       "      <th></th>\n",
       "      <th>Unnamed: 0</th>\n",
       "      <th>Year</th>\n",
       "      <th>Month</th>\n",
       "      <th>DayofMonth</th>\n",
       "      <th>DayOfWeek</th>\n",
       "      <th>DepTime</th>\n",
       "      <th>CRSDepTime</th>\n",
       "      <th>ArrTime</th>\n",
       "      <th>CRSArrTime</th>\n",
       "      <th>UniqueCarrier</th>\n",
       "      <th>...</th>\n",
       "      <th>TaxiIn</th>\n",
       "      <th>TaxiOut</th>\n",
       "      <th>Cancelled</th>\n",
       "      <th>CancellationCode</th>\n",
       "      <th>Diverted</th>\n",
       "      <th>CarrierDelay</th>\n",
       "      <th>WeatherDelay</th>\n",
       "      <th>NASDelay</th>\n",
       "      <th>SecurityDelay</th>\n",
       "      <th>LateAircraftDelay</th>\n",
       "    </tr>\n",
       "  </thead>\n",
       "  <tbody>\n",
       "    <tr>\n",
       "      <th>0</th>\n",
       "      <td>0</td>\n",
       "      <td>2008</td>\n",
       "      <td>1</td>\n",
       "      <td>3</td>\n",
       "      <td>4</td>\n",
       "      <td>2003</td>\n",
       "      <td>1955</td>\n",
       "      <td>2211</td>\n",
       "      <td>2225</td>\n",
       "      <td>WN</td>\n",
       "      <td>...</td>\n",
       "      <td>4</td>\n",
       "      <td>8</td>\n",
       "      <td>0</td>\n",
       "      <td>N</td>\n",
       "      <td>0</td>\n",
       "      <td>NaN</td>\n",
       "      <td>NaN</td>\n",
       "      <td>NaN</td>\n",
       "      <td>NaN</td>\n",
       "      <td>NaN</td>\n",
       "    </tr>\n",
       "    <tr>\n",
       "      <th>1</th>\n",
       "      <td>1</td>\n",
       "      <td>2008</td>\n",
       "      <td>1</td>\n",
       "      <td>3</td>\n",
       "      <td>4</td>\n",
       "      <td>754</td>\n",
       "      <td>735</td>\n",
       "      <td>1002</td>\n",
       "      <td>1000</td>\n",
       "      <td>WN</td>\n",
       "      <td>...</td>\n",
       "      <td>5</td>\n",
       "      <td>10</td>\n",
       "      <td>0</td>\n",
       "      <td>N</td>\n",
       "      <td>0</td>\n",
       "      <td>NaN</td>\n",
       "      <td>NaN</td>\n",
       "      <td>NaN</td>\n",
       "      <td>NaN</td>\n",
       "      <td>NaN</td>\n",
       "    </tr>\n",
       "    <tr>\n",
       "      <th>2</th>\n",
       "      <td>2</td>\n",
       "      <td>2008</td>\n",
       "      <td>1</td>\n",
       "      <td>3</td>\n",
       "      <td>4</td>\n",
       "      <td>628</td>\n",
       "      <td>620</td>\n",
       "      <td>804</td>\n",
       "      <td>750</td>\n",
       "      <td>WN</td>\n",
       "      <td>...</td>\n",
       "      <td>3</td>\n",
       "      <td>17</td>\n",
       "      <td>0</td>\n",
       "      <td>N</td>\n",
       "      <td>0</td>\n",
       "      <td>NaN</td>\n",
       "      <td>NaN</td>\n",
       "      <td>NaN</td>\n",
       "      <td>NaN</td>\n",
       "      <td>NaN</td>\n",
       "    </tr>\n",
       "    <tr>\n",
       "      <th>3</th>\n",
       "      <td>4</td>\n",
       "      <td>2008</td>\n",
       "      <td>1</td>\n",
       "      <td>3</td>\n",
       "      <td>4</td>\n",
       "      <td>1829</td>\n",
       "      <td>1755</td>\n",
       "      <td>1959</td>\n",
       "      <td>1925</td>\n",
       "      <td>WN</td>\n",
       "      <td>...</td>\n",
       "      <td>3</td>\n",
       "      <td>10</td>\n",
       "      <td>0</td>\n",
       "      <td>N</td>\n",
       "      <td>0</td>\n",
       "      <td>2</td>\n",
       "      <td>0</td>\n",
       "      <td>0</td>\n",
       "      <td>0</td>\n",
       "      <td>32</td>\n",
       "    </tr>\n",
       "    <tr>\n",
       "      <th>4</th>\n",
       "      <td>5</td>\n",
       "      <td>2008</td>\n",
       "      <td>1</td>\n",
       "      <td>3</td>\n",
       "      <td>4</td>\n",
       "      <td>1940</td>\n",
       "      <td>1915</td>\n",
       "      <td>2121</td>\n",
       "      <td>2110</td>\n",
       "      <td>WN</td>\n",
       "      <td>...</td>\n",
       "      <td>4</td>\n",
       "      <td>10</td>\n",
       "      <td>0</td>\n",
       "      <td>N</td>\n",
       "      <td>0</td>\n",
       "      <td>NaN</td>\n",
       "      <td>NaN</td>\n",
       "      <td>NaN</td>\n",
       "      <td>NaN</td>\n",
       "      <td>NaN</td>\n",
       "    </tr>\n",
       "  </tbody>\n",
       "</table>\n",
       "<p>5 rows × 30 columns</p>\n",
       "</div>"
      ],
      "text/plain": [
       "   Unnamed: 0  Year  Month  DayofMonth  DayOfWeek  DepTime  CRSDepTime  \\\n",
       "0           0  2008      1           3          4     2003        1955   \n",
       "1           1  2008      1           3          4      754         735   \n",
       "2           2  2008      1           3          4      628         620   \n",
       "3           4  2008      1           3          4     1829        1755   \n",
       "4           5  2008      1           3          4     1940        1915   \n",
       "\n",
       "   ArrTime  CRSArrTime UniqueCarrier  ...  TaxiIn TaxiOut  Cancelled  \\\n",
       "0     2211        2225            WN  ...       4       8          0   \n",
       "1     1002        1000            WN  ...       5      10          0   \n",
       "2      804         750            WN  ...       3      17          0   \n",
       "3     1959        1925            WN  ...       3      10          0   \n",
       "4     2121        2110            WN  ...       4      10          0   \n",
       "\n",
       "   CancellationCode  Diverted  CarrierDelay  WeatherDelay NASDelay  \\\n",
       "0                 N         0           NaN           NaN      NaN   \n",
       "1                 N         0           NaN           NaN      NaN   \n",
       "2                 N         0           NaN           NaN      NaN   \n",
       "3                 N         0             2             0        0   \n",
       "4                 N         0           NaN           NaN      NaN   \n",
       "\n",
       "  SecurityDelay  LateAircraftDelay  \n",
       "0           NaN                NaN  \n",
       "1           NaN                NaN  \n",
       "2           NaN                NaN  \n",
       "3             0                 32  \n",
       "4           NaN                NaN  \n",
       "\n",
       "[5 rows x 30 columns]"
      ]
     },
     "execution_count": 3,
     "metadata": {},
     "output_type": "execute_result"
    }
   ],
   "source": [
    "datos = pd.read_csv(\"C:/Users/alpid/Downloads/DelayedFlights.csv\")\n",
    "datos.head()"
   ]
  },
  {
   "cell_type": "code",
   "execution_count": 4,
   "id": "b65f4736",
   "metadata": {},
   "outputs": [
    {
     "data": {
      "text/plain": [
       "(1936758, 30)"
      ]
     },
     "execution_count": 4,
     "metadata": {},
     "output_type": "execute_result"
    }
   ],
   "source": [
    "datos.shape"
   ]
  },
  {
   "cell_type": "markdown",
   "id": "17241859",
   "metadata": {},
   "source": [
    "Nota: Reduciré la base de datos a 200.000 registros cuando la haya limpiado, de manera que elimine el mínimo de datos útiles."
   ]
  },
  {
   "cell_type": "markdown",
   "id": "9f80757c",
   "metadata": {},
   "source": [
    "### 1) Entender los datos, \"sanity checks\" y limpiar la base de datos"
   ]
  },
  {
   "cell_type": "markdown",
   "id": "9d662b6b",
   "metadata": {},
   "source": [
    "### 1.1 Entender los datos"
   ]
  },
  {
   "cell_type": "code",
   "execution_count": 5,
   "id": "34a1e045",
   "metadata": {
    "scrolled": true
   },
   "outputs": [
    {
     "name": "stdout",
     "output_type": "stream",
     "text": [
      "<class 'pandas.core.frame.DataFrame'>\n",
      "RangeIndex: 1936758 entries, 0 to 1936757\n",
      "Data columns (total 30 columns):\n",
      " #   Column             Dtype  \n",
      "---  ------             -----  \n",
      " 0   Unnamed: 0         int64  \n",
      " 1   Year               int64  \n",
      " 2   Month              int64  \n",
      " 3   DayofMonth         int64  \n",
      " 4   DayOfWeek          int64  \n",
      " 5   DepTime            float64\n",
      " 6   CRSDepTime         int64  \n",
      " 7   ArrTime            float64\n",
      " 8   CRSArrTime         int64  \n",
      " 9   UniqueCarrier      object \n",
      " 10  FlightNum          int64  \n",
      " 11  TailNum            object \n",
      " 12  ActualElapsedTime  float64\n",
      " 13  CRSElapsedTime     float64\n",
      " 14  AirTime            float64\n",
      " 15  ArrDelay           float64\n",
      " 16  DepDelay           float64\n",
      " 17  Origin             object \n",
      " 18  Dest               object \n",
      " 19  Distance           int64  \n",
      " 20  TaxiIn             float64\n",
      " 21  TaxiOut            float64\n",
      " 22  Cancelled          int64  \n",
      " 23  CancellationCode   object \n",
      " 24  Diverted           int64  \n",
      " 25  CarrierDelay       float64\n",
      " 26  WeatherDelay       float64\n",
      " 27  NASDelay           float64\n",
      " 28  SecurityDelay      float64\n",
      " 29  LateAircraftDelay  float64\n",
      "dtypes: float64(14), int64(11), object(5)\n",
      "memory usage: 443.3+ MB\n"
     ]
    }
   ],
   "source": [
    "datos.info()"
   ]
  },
  {
   "cell_type": "markdown",
   "id": "3544e158",
   "metadata": {},
   "source": [
    "Para elegir las columnas que mantener debemos enteder qué significan. La explciación la encontramos investigando informaciónes de la propia web:\n",
    "1. **Year** 2008\n",
    "2. **Month** 1 al 12\n",
    "3. **DayofMonth** 1 al 31\n",
    "4. **DayOfWeek** 1 :Lunes a 7 :Domingo\n",
    "5. **DepTime** Hora local real de salida (hhmm)\n",
    "6. **CRSDepTime** Hora prevista de salida de los sistemas informatizados de reserva (CSR) (local, hhmm)\n",
    "7. **ArrTime** Hora local real de llegada (hhmm)\n",
    "8. **CRSArrTime** Hora local prevista de llegada del CSR (hhmm)\n",
    "9. **UniqueCarrier** Código único del carrier (=vuelo)\n",
    "10. **FlightNum** Número de vuelo\n",
    "11. **TailNum** Número de cola del avion: identificador único del avion\n",
    "12. **ActualElapsedTime** tiempo real transcurrido en minutos de puerta de salida a puerta de llegada = TaxiIn + TaxiOut + AirTime\n",
    "13. **CRSElapsedTime** tiempo previsto transcurrido en minutos de puerta de salida a puerta de llegada\n",
    "14. **AirTime** tiempo de vuelo en minutos\n",
    "15. **ArrDelay** tiempo de retraso de llegada en minutos: Un vuelo se considera \"puntual\" si se opera con menos de 15 minutos de retraso sobre la hora prevista que figura en los sistemas informatizados de reserva (CSR) de las compañías aéreas. ArrDelay = suma (CarrierDelay, WeatherDelay, NASDelay, SecurityDelay, LateAircraftDelay).\n",
    "16. **DepDelay** tiempo de retraso de salida en minutos\n",
    "17. **Origin** Codigo IATA del aeropuerto de origen\n",
    "18. **Dest** Codigo IATA del aeropuerto de destino\n",
    "19. **Distance** Distancia recorrida entre aeropuertos en millas\n",
    "20. **TaxiIn** tiempo de taxi del avion desde pista a puerta de desembarque, en minutos : Se cuenta como tiempo de vuelo.\n",
    "21. **TaxiOut** tiempo de taxi del avion desde puerta de embarque hasta pista, en minutos : Se cuenta como tiempo de vuelo.\n",
    "22. **Cancelled** 0: No cancelado, 1: cancelado\n",
    "23. **CancellationCode** Codigo de cancelación: Causa (A = CarrierDelay, B = WeatherDelay, C = NASDelay, D = SecurityDelay)\n",
    "24. **Diverted** Desviado a otro aeropuerto 1 : si, 0 = no\n",
    "25. **CarrierDelay** en minutos: Algunos ejemplos de sucesos que pueden determinar un retraso de la compañía aérea son: limpieza de la aeronave, avería de la aeronave, espera de la llegada de pasajeros o tripulación en tránsito, equipaje, impacto de aves, carga de mercancías, catering, informática, interrupción del equipo de la compañía aérea, legalidad de la tripulación (descanso del piloto o del auxiliar), daños causados por mercancías peligrosas, inspección técnica, repostaje de combustible, tratamiento de pasajeros discapacitados, tripulación retrasada, servicio de aseo, mantenimiento, sobreventa, servicio de agua potable, retirada de pasajero rebelde, embarque o asiento lento, estiba de equipaje de mano, retrasos por peso y centrado.\n",
    "26. **WeatherDelay** en minutos: El retraso meteorológico se debe a condiciones meteorológicas extremas o peligrosas que se pronostican o se manifiestan en el punto de salida, en ruta o en el punto de llegada.\n",
    "27. **NASDelay** en minutos: Los retrasos que están bajo el control del Sistema Nacional de Espacio Aéreo (NAS) pueden incluir: condiciones meteorológicas no extremas, operaciones aeroportuarias, gran volumen de tráfico, control del tráfico aéreo, etc.\n",
    "28. **SecurityDelay** en minutos: Retraso de seguridad causado por la evacuación de una terminal o vestíbulo, el boarding repetido de un avión debido a un fallo de seguridad, equipos de control inoperativos y/o largas colas de más de 29 minutos en las zonas de control.\n",
    "29. **LateAircraftDelay** en minutos: Retraso en la llegada a un aeropuerto debido a la llegada tardía del mismo avión a un aeropuerto anterior. El efecto dominó de un retraso anterior en aeropuertos posteriores se denomina propagación del retraso."
   ]
  },
  {
   "cell_type": "markdown",
   "id": "95868dc2",
   "metadata": {},
   "source": [
    "Para decidir qué datos dejar ao eliminar, haremos limpieza de la información, un análisis básico de las columnas donde pueda agrupar alguna o eliminar innecesarias, y definir las preguntas que quiero responder en este o siguientes ejercicios."
   ]
  },
  {
   "cell_type": "markdown",
   "id": "18aa9b89",
   "metadata": {},
   "source": [
    "### 1.2 Sanity Check y limpiar la base de datos"
   ]
  },
  {
   "cell_type": "markdown",
   "id": "6fb8bd2d",
   "metadata": {},
   "source": [
    "#### 1. Lo primero que haré es eliminar la columna \"Unnamed:  0\" para failitarme el analisis:"
   ]
  },
  {
   "cell_type": "code",
   "execution_count": 6,
   "id": "83dbfe6c",
   "metadata": {},
   "outputs": [
    {
     "name": "stderr",
     "output_type": "stream",
     "text": [
      "C:\\Users\\alpid\\AppData\\Local\\Temp\\ipykernel_11168\\3903422324.py:1: FutureWarning: In a future version of pandas all arguments of DataFrame.drop except for the argument 'labels' will be keyword-only.\n",
      "  datos = datos.drop(\"Unnamed: 0\",1)\n"
     ]
    },
    {
     "data": {
      "text/html": [
       "<div>\n",
       "<style scoped>\n",
       "    .dataframe tbody tr th:only-of-type {\n",
       "        vertical-align: middle;\n",
       "    }\n",
       "\n",
       "    .dataframe tbody tr th {\n",
       "        vertical-align: top;\n",
       "    }\n",
       "\n",
       "    .dataframe thead th {\n",
       "        text-align: right;\n",
       "    }\n",
       "</style>\n",
       "<table border=\"1\" class=\"dataframe\">\n",
       "  <thead>\n",
       "    <tr style=\"text-align: right;\">\n",
       "      <th></th>\n",
       "      <th>Year</th>\n",
       "      <th>Month</th>\n",
       "      <th>DayofMonth</th>\n",
       "      <th>DayOfWeek</th>\n",
       "      <th>DepTime</th>\n",
       "      <th>CRSDepTime</th>\n",
       "      <th>ArrTime</th>\n",
       "      <th>CRSArrTime</th>\n",
       "      <th>UniqueCarrier</th>\n",
       "      <th>FlightNum</th>\n",
       "      <th>...</th>\n",
       "      <th>TaxiIn</th>\n",
       "      <th>TaxiOut</th>\n",
       "      <th>Cancelled</th>\n",
       "      <th>CancellationCode</th>\n",
       "      <th>Diverted</th>\n",
       "      <th>CarrierDelay</th>\n",
       "      <th>WeatherDelay</th>\n",
       "      <th>NASDelay</th>\n",
       "      <th>SecurityDelay</th>\n",
       "      <th>LateAircraftDelay</th>\n",
       "    </tr>\n",
       "  </thead>\n",
       "  <tbody>\n",
       "    <tr>\n",
       "      <th>0</th>\n",
       "      <td>2008</td>\n",
       "      <td>1</td>\n",
       "      <td>3</td>\n",
       "      <td>4</td>\n",
       "      <td>2003</td>\n",
       "      <td>1955</td>\n",
       "      <td>2211</td>\n",
       "      <td>2225</td>\n",
       "      <td>WN</td>\n",
       "      <td>335</td>\n",
       "      <td>...</td>\n",
       "      <td>4</td>\n",
       "      <td>8</td>\n",
       "      <td>0</td>\n",
       "      <td>N</td>\n",
       "      <td>0</td>\n",
       "      <td>NaN</td>\n",
       "      <td>NaN</td>\n",
       "      <td>NaN</td>\n",
       "      <td>NaN</td>\n",
       "      <td>NaN</td>\n",
       "    </tr>\n",
       "    <tr>\n",
       "      <th>1</th>\n",
       "      <td>2008</td>\n",
       "      <td>1</td>\n",
       "      <td>3</td>\n",
       "      <td>4</td>\n",
       "      <td>754</td>\n",
       "      <td>735</td>\n",
       "      <td>1002</td>\n",
       "      <td>1000</td>\n",
       "      <td>WN</td>\n",
       "      <td>3231</td>\n",
       "      <td>...</td>\n",
       "      <td>5</td>\n",
       "      <td>10</td>\n",
       "      <td>0</td>\n",
       "      <td>N</td>\n",
       "      <td>0</td>\n",
       "      <td>NaN</td>\n",
       "      <td>NaN</td>\n",
       "      <td>NaN</td>\n",
       "      <td>NaN</td>\n",
       "      <td>NaN</td>\n",
       "    </tr>\n",
       "    <tr>\n",
       "      <th>2</th>\n",
       "      <td>2008</td>\n",
       "      <td>1</td>\n",
       "      <td>3</td>\n",
       "      <td>4</td>\n",
       "      <td>628</td>\n",
       "      <td>620</td>\n",
       "      <td>804</td>\n",
       "      <td>750</td>\n",
       "      <td>WN</td>\n",
       "      <td>448</td>\n",
       "      <td>...</td>\n",
       "      <td>3</td>\n",
       "      <td>17</td>\n",
       "      <td>0</td>\n",
       "      <td>N</td>\n",
       "      <td>0</td>\n",
       "      <td>NaN</td>\n",
       "      <td>NaN</td>\n",
       "      <td>NaN</td>\n",
       "      <td>NaN</td>\n",
       "      <td>NaN</td>\n",
       "    </tr>\n",
       "    <tr>\n",
       "      <th>3</th>\n",
       "      <td>2008</td>\n",
       "      <td>1</td>\n",
       "      <td>3</td>\n",
       "      <td>4</td>\n",
       "      <td>1829</td>\n",
       "      <td>1755</td>\n",
       "      <td>1959</td>\n",
       "      <td>1925</td>\n",
       "      <td>WN</td>\n",
       "      <td>3920</td>\n",
       "      <td>...</td>\n",
       "      <td>3</td>\n",
       "      <td>10</td>\n",
       "      <td>0</td>\n",
       "      <td>N</td>\n",
       "      <td>0</td>\n",
       "      <td>2</td>\n",
       "      <td>0</td>\n",
       "      <td>0</td>\n",
       "      <td>0</td>\n",
       "      <td>32</td>\n",
       "    </tr>\n",
       "    <tr>\n",
       "      <th>4</th>\n",
       "      <td>2008</td>\n",
       "      <td>1</td>\n",
       "      <td>3</td>\n",
       "      <td>4</td>\n",
       "      <td>1940</td>\n",
       "      <td>1915</td>\n",
       "      <td>2121</td>\n",
       "      <td>2110</td>\n",
       "      <td>WN</td>\n",
       "      <td>378</td>\n",
       "      <td>...</td>\n",
       "      <td>4</td>\n",
       "      <td>10</td>\n",
       "      <td>0</td>\n",
       "      <td>N</td>\n",
       "      <td>0</td>\n",
       "      <td>NaN</td>\n",
       "      <td>NaN</td>\n",
       "      <td>NaN</td>\n",
       "      <td>NaN</td>\n",
       "      <td>NaN</td>\n",
       "    </tr>\n",
       "  </tbody>\n",
       "</table>\n",
       "<p>5 rows × 29 columns</p>\n",
       "</div>"
      ],
      "text/plain": [
       "   Year  Month  DayofMonth  DayOfWeek  DepTime  CRSDepTime  ArrTime  \\\n",
       "0  2008      1           3          4     2003        1955     2211   \n",
       "1  2008      1           3          4      754         735     1002   \n",
       "2  2008      1           3          4      628         620      804   \n",
       "3  2008      1           3          4     1829        1755     1959   \n",
       "4  2008      1           3          4     1940        1915     2121   \n",
       "\n",
       "   CRSArrTime UniqueCarrier  FlightNum  ... TaxiIn  TaxiOut  Cancelled  \\\n",
       "0        2225            WN        335  ...      4        8          0   \n",
       "1        1000            WN       3231  ...      5       10          0   \n",
       "2         750            WN        448  ...      3       17          0   \n",
       "3        1925            WN       3920  ...      3       10          0   \n",
       "4        2110            WN        378  ...      4       10          0   \n",
       "\n",
       "   CancellationCode  Diverted  CarrierDelay WeatherDelay NASDelay  \\\n",
       "0                 N         0           NaN          NaN      NaN   \n",
       "1                 N         0           NaN          NaN      NaN   \n",
       "2                 N         0           NaN          NaN      NaN   \n",
       "3                 N         0             2            0        0   \n",
       "4                 N         0           NaN          NaN      NaN   \n",
       "\n",
       "   SecurityDelay  LateAircraftDelay  \n",
       "0            NaN                NaN  \n",
       "1            NaN                NaN  \n",
       "2            NaN                NaN  \n",
       "3              0                 32  \n",
       "4            NaN                NaN  \n",
       "\n",
       "[5 rows x 29 columns]"
      ]
     },
     "execution_count": 6,
     "metadata": {},
     "output_type": "execute_result"
    }
   ],
   "source": [
    "datos = datos.drop(\"Unnamed: 0\",1)\n",
    "datos.head()"
   ]
  },
  {
   "cell_type": "markdown",
   "id": "0416a658",
   "metadata": {},
   "source": [
    "#### 2. Verificaré si hay filas en las que todos los datos son faltantes:"
   ]
  },
  {
   "cell_type": "code",
   "execution_count": 7,
   "id": "4074ac9a",
   "metadata": {},
   "outputs": [
    {
     "data": {
      "text/plain": [
       "0"
      ]
     },
     "execution_count": 7,
     "metadata": {},
     "output_type": "execute_result"
    }
   ],
   "source": [
    "num_filas_nans = (datos.isna().all(axis=1)).sum()\n",
    "num_filas_nans"
   ]
  },
  {
   "cell_type": "markdown",
   "id": "2c59719f",
   "metadata": {},
   "source": [
    "#### 3. Verificaré si todas las columnas tienen valores o hay alguna que tenga todos Nan:"
   ]
  },
  {
   "cell_type": "code",
   "execution_count": 8,
   "id": "2e3cfdc8",
   "metadata": {},
   "outputs": [
    {
     "data": {
      "text/plain": [
       "Year                 False\n",
       "Month                False\n",
       "DayofMonth           False\n",
       "DayOfWeek            False\n",
       "DepTime              False\n",
       "CRSDepTime           False\n",
       "ArrTime              False\n",
       "CRSArrTime           False\n",
       "UniqueCarrier        False\n",
       "FlightNum            False\n",
       "TailNum              False\n",
       "ActualElapsedTime    False\n",
       "CRSElapsedTime       False\n",
       "AirTime              False\n",
       "ArrDelay             False\n",
       "DepDelay             False\n",
       "Origin               False\n",
       "Dest                 False\n",
       "Distance             False\n",
       "TaxiIn               False\n",
       "TaxiOut              False\n",
       "Cancelled            False\n",
       "CancellationCode     False\n",
       "Diverted             False\n",
       "CarrierDelay         False\n",
       "WeatherDelay         False\n",
       "NASDelay             False\n",
       "SecurityDelay        False\n",
       "LateAircraftDelay    False\n",
       "dtype: bool"
      ]
     },
     "execution_count": 8,
     "metadata": {},
     "output_type": "execute_result"
    }
   ],
   "source": [
    "datos.isna().all()"
   ]
  },
  {
   "cell_type": "markdown",
   "id": "59a2e071",
   "metadata": {},
   "source": [
    "#### 4. Verificaré las filas que tienen datos faltantes y por qué, eso no solo me da una idea de las realciones sino que me permite deicdir si las uso o no, o les cambio el valor:"
   ]
  },
  {
   "cell_type": "code",
   "execution_count": 9,
   "id": "7a1f36fd",
   "metadata": {},
   "outputs": [
    {
     "data": {
      "text/plain": [
       "Year                      0\n",
       "Month                     0\n",
       "DayofMonth                0\n",
       "DayOfWeek                 0\n",
       "DepTime                   0\n",
       "CRSDepTime                0\n",
       "ArrTime                7110\n",
       "CRSArrTime                0\n",
       "UniqueCarrier             0\n",
       "FlightNum                 0\n",
       "TailNum                   5\n",
       "ActualElapsedTime      8387\n",
       "CRSElapsedTime          198\n",
       "AirTime                8387\n",
       "ArrDelay               8387\n",
       "DepDelay                  0\n",
       "Origin                    0\n",
       "Dest                      0\n",
       "Distance                  0\n",
       "TaxiIn                 7110\n",
       "TaxiOut                 455\n",
       "Cancelled                 0\n",
       "CancellationCode          0\n",
       "Diverted                  0\n",
       "CarrierDelay         689270\n",
       "WeatherDelay         689270\n",
       "NASDelay             689270\n",
       "SecurityDelay        689270\n",
       "LateAircraftDelay    689270\n",
       "dtype: int64"
      ]
     },
     "execution_count": 9,
     "metadata": {},
     "output_type": "execute_result"
    }
   ],
   "source": [
    "datos.isna().sum()"
   ]
  },
  {
   "cell_type": "markdown",
   "id": "5dcb615a",
   "metadata": {},
   "source": [
    "Para realizar este análisis de los valores nulos, voy a adelantar una análisis de ellos y sus relacciones que confirmaré con el análisis de correlación."
   ]
  },
  {
   "cell_type": "markdown",
   "id": "b7501a43",
   "metadata": {},
   "source": [
    "Para ello, primero: saco las filas de cada variable que tiene valor nulo (una cada vez, pero no pongo todas las tablas porque he ido cambiando las variables en las formulas) y despues veo en aquellas otras columnas donde me salga Nan si toda la columna es Nan cuando la variable de oringen lo es. P.e. Cuando ArrTime es Nan, qué otras columnas son Nan (Y verifico si lo son toda o parte):"
   ]
  },
  {
   "cell_type": "code",
   "execution_count": 10,
   "id": "56138f6d",
   "metadata": {},
   "outputs": [],
   "source": [
    "pd.set_option('display.max_columns', None) # Necesito ver todas las columnas para ver cuales dan Nan en cada caso."
   ]
  },
  {
   "cell_type": "code",
   "execution_count": 11,
   "id": "50ec8961",
   "metadata": {},
   "outputs": [
    {
     "data": {
      "text/html": [
       "<div>\n",
       "<style scoped>\n",
       "    .dataframe tbody tr th:only-of-type {\n",
       "        vertical-align: middle;\n",
       "    }\n",
       "\n",
       "    .dataframe tbody tr th {\n",
       "        vertical-align: top;\n",
       "    }\n",
       "\n",
       "    .dataframe thead th {\n",
       "        text-align: right;\n",
       "    }\n",
       "</style>\n",
       "<table border=\"1\" class=\"dataframe\">\n",
       "  <thead>\n",
       "    <tr style=\"text-align: right;\">\n",
       "      <th></th>\n",
       "      <th>Year</th>\n",
       "      <th>Month</th>\n",
       "      <th>DayofMonth</th>\n",
       "      <th>DayOfWeek</th>\n",
       "      <th>DepTime</th>\n",
       "      <th>CRSDepTime</th>\n",
       "      <th>ArrTime</th>\n",
       "      <th>CRSArrTime</th>\n",
       "      <th>UniqueCarrier</th>\n",
       "      <th>FlightNum</th>\n",
       "      <th>TailNum</th>\n",
       "      <th>ActualElapsedTime</th>\n",
       "      <th>CRSElapsedTime</th>\n",
       "      <th>AirTime</th>\n",
       "      <th>ArrDelay</th>\n",
       "      <th>DepDelay</th>\n",
       "      <th>Origin</th>\n",
       "      <th>Dest</th>\n",
       "      <th>Distance</th>\n",
       "      <th>TaxiIn</th>\n",
       "      <th>TaxiOut</th>\n",
       "      <th>Cancelled</th>\n",
       "      <th>CancellationCode</th>\n",
       "      <th>Diverted</th>\n",
       "      <th>CarrierDelay</th>\n",
       "      <th>WeatherDelay</th>\n",
       "      <th>NASDelay</th>\n",
       "      <th>SecurityDelay</th>\n",
       "      <th>LateAircraftDelay</th>\n",
       "    </tr>\n",
       "  </thead>\n",
       "  <tbody>\n",
       "    <tr>\n",
       "      <th>1280</th>\n",
       "      <td>2008</td>\n",
       "      <td>1</td>\n",
       "      <td>3</td>\n",
       "      <td>4</td>\n",
       "      <td>922</td>\n",
       "      <td>915</td>\n",
       "      <td>NaN</td>\n",
       "      <td>1050</td>\n",
       "      <td>WN</td>\n",
       "      <td>1069</td>\n",
       "      <td>N630WN</td>\n",
       "      <td>NaN</td>\n",
       "      <td>95</td>\n",
       "      <td>NaN</td>\n",
       "      <td>NaN</td>\n",
       "      <td>7</td>\n",
       "      <td>SAN</td>\n",
       "      <td>SMF</td>\n",
       "      <td>480</td>\n",
       "      <td>NaN</td>\n",
       "      <td>12</td>\n",
       "      <td>0</td>\n",
       "      <td>N</td>\n",
       "      <td>1</td>\n",
       "      <td>NaN</td>\n",
       "      <td>NaN</td>\n",
       "      <td>NaN</td>\n",
       "      <td>NaN</td>\n",
       "      <td>NaN</td>\n",
       "    </tr>\n",
       "    <tr>\n",
       "      <th>1372</th>\n",
       "      <td>2008</td>\n",
       "      <td>1</td>\n",
       "      <td>3</td>\n",
       "      <td>4</td>\n",
       "      <td>2325</td>\n",
       "      <td>1900</td>\n",
       "      <td>NaN</td>\n",
       "      <td>2030</td>\n",
       "      <td>WN</td>\n",
       "      <td>2092</td>\n",
       "      <td>N302SW</td>\n",
       "      <td>NaN</td>\n",
       "      <td>90</td>\n",
       "      <td>NaN</td>\n",
       "      <td>NaN</td>\n",
       "      <td>265</td>\n",
       "      <td>SFO</td>\n",
       "      <td>SAN</td>\n",
       "      <td>447</td>\n",
       "      <td>NaN</td>\n",
       "      <td>11</td>\n",
       "      <td>0</td>\n",
       "      <td>N</td>\n",
       "      <td>1</td>\n",
       "      <td>NaN</td>\n",
       "      <td>NaN</td>\n",
       "      <td>NaN</td>\n",
       "      <td>NaN</td>\n",
       "      <td>NaN</td>\n",
       "    </tr>\n",
       "    <tr>\n",
       "      <th>1776</th>\n",
       "      <td>2008</td>\n",
       "      <td>1</td>\n",
       "      <td>4</td>\n",
       "      <td>5</td>\n",
       "      <td>1949</td>\n",
       "      <td>1905</td>\n",
       "      <td>NaN</td>\n",
       "      <td>1910</td>\n",
       "      <td>WN</td>\n",
       "      <td>1403</td>\n",
       "      <td>N504SW</td>\n",
       "      <td>NaN</td>\n",
       "      <td>65</td>\n",
       "      <td>NaN</td>\n",
       "      <td>NaN</td>\n",
       "      <td>44</td>\n",
       "      <td>BOI</td>\n",
       "      <td>RNO</td>\n",
       "      <td>335</td>\n",
       "      <td>NaN</td>\n",
       "      <td>11</td>\n",
       "      <td>0</td>\n",
       "      <td>N</td>\n",
       "      <td>1</td>\n",
       "      <td>NaN</td>\n",
       "      <td>NaN</td>\n",
       "      <td>NaN</td>\n",
       "      <td>NaN</td>\n",
       "      <td>NaN</td>\n",
       "    </tr>\n",
       "    <tr>\n",
       "      <th>1831</th>\n",
       "      <td>2008</td>\n",
       "      <td>1</td>\n",
       "      <td>4</td>\n",
       "      <td>5</td>\n",
       "      <td>737</td>\n",
       "      <td>705</td>\n",
       "      <td>NaN</td>\n",
       "      <td>825</td>\n",
       "      <td>WN</td>\n",
       "      <td>178</td>\n",
       "      <td>N718SW</td>\n",
       "      <td>NaN</td>\n",
       "      <td>80</td>\n",
       "      <td>NaN</td>\n",
       "      <td>NaN</td>\n",
       "      <td>32</td>\n",
       "      <td>BUR</td>\n",
       "      <td>SMF</td>\n",
       "      <td>358</td>\n",
       "      <td>NaN</td>\n",
       "      <td>13</td>\n",
       "      <td>0</td>\n",
       "      <td>N</td>\n",
       "      <td>1</td>\n",
       "      <td>NaN</td>\n",
       "      <td>NaN</td>\n",
       "      <td>NaN</td>\n",
       "      <td>NaN</td>\n",
       "      <td>NaN</td>\n",
       "    </tr>\n",
       "    <tr>\n",
       "      <th>2244</th>\n",
       "      <td>2008</td>\n",
       "      <td>1</td>\n",
       "      <td>4</td>\n",
       "      <td>5</td>\n",
       "      <td>1849</td>\n",
       "      <td>1630</td>\n",
       "      <td>NaN</td>\n",
       "      <td>1755</td>\n",
       "      <td>WN</td>\n",
       "      <td>239</td>\n",
       "      <td>N636WN</td>\n",
       "      <td>NaN</td>\n",
       "      <td>85</td>\n",
       "      <td>NaN</td>\n",
       "      <td>NaN</td>\n",
       "      <td>139</td>\n",
       "      <td>LAS</td>\n",
       "      <td>RNO</td>\n",
       "      <td>345</td>\n",
       "      <td>NaN</td>\n",
       "      <td>12</td>\n",
       "      <td>0</td>\n",
       "      <td>N</td>\n",
       "      <td>1</td>\n",
       "      <td>NaN</td>\n",
       "      <td>NaN</td>\n",
       "      <td>NaN</td>\n",
       "      <td>NaN</td>\n",
       "      <td>NaN</td>\n",
       "    </tr>\n",
       "    <tr>\n",
       "      <th>...</th>\n",
       "      <td>...</td>\n",
       "      <td>...</td>\n",
       "      <td>...</td>\n",
       "      <td>...</td>\n",
       "      <td>...</td>\n",
       "      <td>...</td>\n",
       "      <td>...</td>\n",
       "      <td>...</td>\n",
       "      <td>...</td>\n",
       "      <td>...</td>\n",
       "      <td>...</td>\n",
       "      <td>...</td>\n",
       "      <td>...</td>\n",
       "      <td>...</td>\n",
       "      <td>...</td>\n",
       "      <td>...</td>\n",
       "      <td>...</td>\n",
       "      <td>...</td>\n",
       "      <td>...</td>\n",
       "      <td>...</td>\n",
       "      <td>...</td>\n",
       "      <td>...</td>\n",
       "      <td>...</td>\n",
       "      <td>...</td>\n",
       "      <td>...</td>\n",
       "      <td>...</td>\n",
       "      <td>...</td>\n",
       "      <td>...</td>\n",
       "      <td>...</td>\n",
       "    </tr>\n",
       "    <tr>\n",
       "      <th>1935651</th>\n",
       "      <td>2008</td>\n",
       "      <td>12</td>\n",
       "      <td>10</td>\n",
       "      <td>3</td>\n",
       "      <td>1459</td>\n",
       "      <td>1447</td>\n",
       "      <td>NaN</td>\n",
       "      <td>1650</td>\n",
       "      <td>DL</td>\n",
       "      <td>1706</td>\n",
       "      <td>N914DN</td>\n",
       "      <td>NaN</td>\n",
       "      <td>123</td>\n",
       "      <td>NaN</td>\n",
       "      <td>NaN</td>\n",
       "      <td>12</td>\n",
       "      <td>ATL</td>\n",
       "      <td>BUF</td>\n",
       "      <td>712</td>\n",
       "      <td>NaN</td>\n",
       "      <td>37</td>\n",
       "      <td>1</td>\n",
       "      <td>A</td>\n",
       "      <td>0</td>\n",
       "      <td>NaN</td>\n",
       "      <td>NaN</td>\n",
       "      <td>NaN</td>\n",
       "      <td>NaN</td>\n",
       "      <td>NaN</td>\n",
       "    </tr>\n",
       "    <tr>\n",
       "      <th>1935716</th>\n",
       "      <td>2008</td>\n",
       "      <td>12</td>\n",
       "      <td>11</td>\n",
       "      <td>4</td>\n",
       "      <td>1355</td>\n",
       "      <td>1106</td>\n",
       "      <td>7</td>\n",
       "      <td>1950</td>\n",
       "      <td>DL</td>\n",
       "      <td>26</td>\n",
       "      <td>N3747D</td>\n",
       "      <td>NaN</td>\n",
       "      <td>344</td>\n",
       "      <td>NaN</td>\n",
       "      <td>NaN</td>\n",
       "      <td>169</td>\n",
       "      <td>LAX</td>\n",
       "      <td>JFK</td>\n",
       "      <td>2475</td>\n",
       "      <td>13</td>\n",
       "      <td>17</td>\n",
       "      <td>0</td>\n",
       "      <td>N</td>\n",
       "      <td>1</td>\n",
       "      <td>NaN</td>\n",
       "      <td>NaN</td>\n",
       "      <td>NaN</td>\n",
       "      <td>NaN</td>\n",
       "      <td>NaN</td>\n",
       "    </tr>\n",
       "    <tr>\n",
       "      <th>1935876</th>\n",
       "      <td>2008</td>\n",
       "      <td>12</td>\n",
       "      <td>11</td>\n",
       "      <td>4</td>\n",
       "      <td>1026</td>\n",
       "      <td>955</td>\n",
       "      <td>NaN</td>\n",
       "      <td>1219</td>\n",
       "      <td>DL</td>\n",
       "      <td>892</td>\n",
       "      <td>N928DL</td>\n",
       "      <td>NaN</td>\n",
       "      <td>144</td>\n",
       "      <td>NaN</td>\n",
       "      <td>NaN</td>\n",
       "      <td>31</td>\n",
       "      <td>ATL</td>\n",
       "      <td>JFK</td>\n",
       "      <td>760</td>\n",
       "      <td>NaN</td>\n",
       "      <td>NaN</td>\n",
       "      <td>1</td>\n",
       "      <td>A</td>\n",
       "      <td>0</td>\n",
       "      <td>NaN</td>\n",
       "      <td>NaN</td>\n",
       "      <td>NaN</td>\n",
       "      <td>NaN</td>\n",
       "      <td>NaN</td>\n",
       "    </tr>\n",
       "    <tr>\n",
       "      <th>1935978</th>\n",
       "      <td>2008</td>\n",
       "      <td>12</td>\n",
       "      <td>11</td>\n",
       "      <td>4</td>\n",
       "      <td>1527</td>\n",
       "      <td>1520</td>\n",
       "      <td>2106</td>\n",
       "      <td>1708</td>\n",
       "      <td>DL</td>\n",
       "      <td>1102</td>\n",
       "      <td>N924DL</td>\n",
       "      <td>NaN</td>\n",
       "      <td>108</td>\n",
       "      <td>NaN</td>\n",
       "      <td>NaN</td>\n",
       "      <td>7</td>\n",
       "      <td>IAD</td>\n",
       "      <td>ATL</td>\n",
       "      <td>533</td>\n",
       "      <td>9</td>\n",
       "      <td>19</td>\n",
       "      <td>0</td>\n",
       "      <td>N</td>\n",
       "      <td>1</td>\n",
       "      <td>NaN</td>\n",
       "      <td>NaN</td>\n",
       "      <td>NaN</td>\n",
       "      <td>NaN</td>\n",
       "      <td>NaN</td>\n",
       "    </tr>\n",
       "    <tr>\n",
       "      <th>1936470</th>\n",
       "      <td>2008</td>\n",
       "      <td>12</td>\n",
       "      <td>12</td>\n",
       "      <td>5</td>\n",
       "      <td>703</td>\n",
       "      <td>630</td>\n",
       "      <td>NaN</td>\n",
       "      <td>734</td>\n",
       "      <td>DL</td>\n",
       "      <td>1372</td>\n",
       "      <td>N908DE</td>\n",
       "      <td>NaN</td>\n",
       "      <td>64</td>\n",
       "      <td>NaN</td>\n",
       "      <td>NaN</td>\n",
       "      <td>33</td>\n",
       "      <td>LGA</td>\n",
       "      <td>BOS</td>\n",
       "      <td>185</td>\n",
       "      <td>NaN</td>\n",
       "      <td>33</td>\n",
       "      <td>1</td>\n",
       "      <td>B</td>\n",
       "      <td>0</td>\n",
       "      <td>NaN</td>\n",
       "      <td>NaN</td>\n",
       "      <td>NaN</td>\n",
       "      <td>NaN</td>\n",
       "      <td>NaN</td>\n",
       "    </tr>\n",
       "  </tbody>\n",
       "</table>\n",
       "<p>8387 rows × 29 columns</p>\n",
       "</div>"
      ],
      "text/plain": [
       "         Year  Month  DayofMonth  DayOfWeek  DepTime  CRSDepTime  ArrTime  \\\n",
       "1280     2008      1           3          4      922         915      NaN   \n",
       "1372     2008      1           3          4     2325        1900      NaN   \n",
       "1776     2008      1           4          5     1949        1905      NaN   \n",
       "1831     2008      1           4          5      737         705      NaN   \n",
       "2244     2008      1           4          5     1849        1630      NaN   \n",
       "...       ...    ...         ...        ...      ...         ...      ...   \n",
       "1935651  2008     12          10          3     1459        1447      NaN   \n",
       "1935716  2008     12          11          4     1355        1106        7   \n",
       "1935876  2008     12          11          4     1026         955      NaN   \n",
       "1935978  2008     12          11          4     1527        1520     2106   \n",
       "1936470  2008     12          12          5      703         630      NaN   \n",
       "\n",
       "         CRSArrTime UniqueCarrier  FlightNum TailNum  ActualElapsedTime  \\\n",
       "1280           1050            WN       1069  N630WN                NaN   \n",
       "1372           2030            WN       2092  N302SW                NaN   \n",
       "1776           1910            WN       1403  N504SW                NaN   \n",
       "1831            825            WN        178  N718SW                NaN   \n",
       "2244           1755            WN        239  N636WN                NaN   \n",
       "...             ...           ...        ...     ...                ...   \n",
       "1935651        1650            DL       1706  N914DN                NaN   \n",
       "1935716        1950            DL         26  N3747D                NaN   \n",
       "1935876        1219            DL        892  N928DL                NaN   \n",
       "1935978        1708            DL       1102  N924DL                NaN   \n",
       "1936470         734            DL       1372  N908DE                NaN   \n",
       "\n",
       "         CRSElapsedTime  AirTime  ArrDelay  DepDelay Origin Dest  Distance  \\\n",
       "1280                 95      NaN       NaN         7    SAN  SMF       480   \n",
       "1372                 90      NaN       NaN       265    SFO  SAN       447   \n",
       "1776                 65      NaN       NaN        44    BOI  RNO       335   \n",
       "1831                 80      NaN       NaN        32    BUR  SMF       358   \n",
       "2244                 85      NaN       NaN       139    LAS  RNO       345   \n",
       "...                 ...      ...       ...       ...    ...  ...       ...   \n",
       "1935651             123      NaN       NaN        12    ATL  BUF       712   \n",
       "1935716             344      NaN       NaN       169    LAX  JFK      2475   \n",
       "1935876             144      NaN       NaN        31    ATL  JFK       760   \n",
       "1935978             108      NaN       NaN         7    IAD  ATL       533   \n",
       "1936470              64      NaN       NaN        33    LGA  BOS       185   \n",
       "\n",
       "         TaxiIn  TaxiOut  Cancelled CancellationCode  Diverted  CarrierDelay  \\\n",
       "1280        NaN       12          0                N         1           NaN   \n",
       "1372        NaN       11          0                N         1           NaN   \n",
       "1776        NaN       11          0                N         1           NaN   \n",
       "1831        NaN       13          0                N         1           NaN   \n",
       "2244        NaN       12          0                N         1           NaN   \n",
       "...         ...      ...        ...              ...       ...           ...   \n",
       "1935651     NaN       37          1                A         0           NaN   \n",
       "1935716      13       17          0                N         1           NaN   \n",
       "1935876     NaN      NaN          1                A         0           NaN   \n",
       "1935978       9       19          0                N         1           NaN   \n",
       "1936470     NaN       33          1                B         0           NaN   \n",
       "\n",
       "         WeatherDelay  NASDelay  SecurityDelay  LateAircraftDelay  \n",
       "1280              NaN       NaN            NaN                NaN  \n",
       "1372              NaN       NaN            NaN                NaN  \n",
       "1776              NaN       NaN            NaN                NaN  \n",
       "1831              NaN       NaN            NaN                NaN  \n",
       "2244              NaN       NaN            NaN                NaN  \n",
       "...               ...       ...            ...                ...  \n",
       "1935651           NaN       NaN            NaN                NaN  \n",
       "1935716           NaN       NaN            NaN                NaN  \n",
       "1935876           NaN       NaN            NaN                NaN  \n",
       "1935978           NaN       NaN            NaN                NaN  \n",
       "1936470           NaN       NaN            NaN                NaN  \n",
       "\n",
       "[8387 rows x 29 columns]"
      ]
     },
     "execution_count": 11,
     "metadata": {},
     "output_type": "execute_result"
    }
   ],
   "source": [
    "filas_con_nulos = datos[datos[\"AirTime\"].isnull()]\n",
    "filas_con_nulos"
   ]
  },
  {
   "cell_type": "code",
   "execution_count": 12,
   "id": "c8f3495b",
   "metadata": {},
   "outputs": [
    {
     "data": {
      "text/plain": [
       "0    7754\n",
       "1     633\n",
       "Name: Cancelled, dtype: int64"
      ]
     },
     "execution_count": 12,
     "metadata": {},
     "output_type": "execute_result"
    }
   ],
   "source": [
    "filas_con_nulos [\"Cancelled\"].value_counts()"
   ]
  },
  {
   "cell_type": "markdown",
   "id": "6d544cb2",
   "metadata": {},
   "source": [
    "Segundo: analizo qué variables son afectadas pasando a Nan cuando los vuelos son desviados o cancelados ( igual que en el anterior, no repito abajo para Cancelled y Diverted, sino que trabajo sobre la misma función intercambiando las variables a analizar):"
   ]
  },
  {
   "cell_type": "code",
   "execution_count": 13,
   "id": "30b7b561",
   "metadata": {
    "scrolled": true
   },
   "outputs": [
    {
     "data": {
      "text/html": [
       "<div>\n",
       "<style scoped>\n",
       "    .dataframe tbody tr th:only-of-type {\n",
       "        vertical-align: middle;\n",
       "    }\n",
       "\n",
       "    .dataframe tbody tr th {\n",
       "        vertical-align: top;\n",
       "    }\n",
       "\n",
       "    .dataframe thead th {\n",
       "        text-align: right;\n",
       "    }\n",
       "</style>\n",
       "<table border=\"1\" class=\"dataframe\">\n",
       "  <thead>\n",
       "    <tr style=\"text-align: right;\">\n",
       "      <th></th>\n",
       "      <th>Year</th>\n",
       "      <th>Month</th>\n",
       "      <th>DayofMonth</th>\n",
       "      <th>DayOfWeek</th>\n",
       "      <th>DepTime</th>\n",
       "      <th>CRSDepTime</th>\n",
       "      <th>ArrTime</th>\n",
       "      <th>CRSArrTime</th>\n",
       "      <th>UniqueCarrier</th>\n",
       "      <th>FlightNum</th>\n",
       "      <th>TailNum</th>\n",
       "      <th>ActualElapsedTime</th>\n",
       "      <th>CRSElapsedTime</th>\n",
       "      <th>AirTime</th>\n",
       "      <th>ArrDelay</th>\n",
       "      <th>DepDelay</th>\n",
       "      <th>Origin</th>\n",
       "      <th>Dest</th>\n",
       "      <th>Distance</th>\n",
       "      <th>TaxiIn</th>\n",
       "      <th>TaxiOut</th>\n",
       "      <th>Cancelled</th>\n",
       "      <th>CancellationCode</th>\n",
       "      <th>Diverted</th>\n",
       "      <th>CarrierDelay</th>\n",
       "      <th>WeatherDelay</th>\n",
       "      <th>NASDelay</th>\n",
       "      <th>SecurityDelay</th>\n",
       "      <th>LateAircraftDelay</th>\n",
       "    </tr>\n",
       "  </thead>\n",
       "  <tbody>\n",
       "    <tr>\n",
       "      <th>1542406</th>\n",
       "      <td>2008</td>\n",
       "      <td>10</td>\n",
       "      <td>27</td>\n",
       "      <td>1</td>\n",
       "      <td>1622</td>\n",
       "      <td>1420</td>\n",
       "      <td>NaN</td>\n",
       "      <td>1520</td>\n",
       "      <td>WN</td>\n",
       "      <td>27</td>\n",
       "      <td>N601WN</td>\n",
       "      <td>NaN</td>\n",
       "      <td>60</td>\n",
       "      <td>NaN</td>\n",
       "      <td>NaN</td>\n",
       "      <td>122</td>\n",
       "      <td>HOU</td>\n",
       "      <td>HRL</td>\n",
       "      <td>276</td>\n",
       "      <td>NaN</td>\n",
       "      <td>19</td>\n",
       "      <td>1</td>\n",
       "      <td>A</td>\n",
       "      <td>0</td>\n",
       "      <td>NaN</td>\n",
       "      <td>NaN</td>\n",
       "      <td>NaN</td>\n",
       "      <td>NaN</td>\n",
       "      <td>NaN</td>\n",
       "    </tr>\n",
       "    <tr>\n",
       "      <th>1546593</th>\n",
       "      <td>2008</td>\n",
       "      <td>10</td>\n",
       "      <td>25</td>\n",
       "      <td>6</td>\n",
       "      <td>1323</td>\n",
       "      <td>1255</td>\n",
       "      <td>NaN</td>\n",
       "      <td>1442</td>\n",
       "      <td>XE</td>\n",
       "      <td>2347</td>\n",
       "      <td>N26549</td>\n",
       "      <td>NaN</td>\n",
       "      <td>107</td>\n",
       "      <td>NaN</td>\n",
       "      <td>NaN</td>\n",
       "      <td>28</td>\n",
       "      <td>CLT</td>\n",
       "      <td>EWR</td>\n",
       "      <td>529</td>\n",
       "      <td>NaN</td>\n",
       "      <td>NaN</td>\n",
       "      <td>1</td>\n",
       "      <td>B</td>\n",
       "      <td>0</td>\n",
       "      <td>NaN</td>\n",
       "      <td>NaN</td>\n",
       "      <td>NaN</td>\n",
       "      <td>NaN</td>\n",
       "      <td>NaN</td>\n",
       "    </tr>\n",
       "    <tr>\n",
       "      <th>1547161</th>\n",
       "      <td>2008</td>\n",
       "      <td>10</td>\n",
       "      <td>22</td>\n",
       "      <td>3</td>\n",
       "      <td>1825</td>\n",
       "      <td>1815</td>\n",
       "      <td>NaN</td>\n",
       "      <td>1927</td>\n",
       "      <td>XE</td>\n",
       "      <td>2819</td>\n",
       "      <td>N12946</td>\n",
       "      <td>NaN</td>\n",
       "      <td>72</td>\n",
       "      <td>NaN</td>\n",
       "      <td>NaN</td>\n",
       "      <td>10</td>\n",
       "      <td>JAN</td>\n",
       "      <td>IAH</td>\n",
       "      <td>351</td>\n",
       "      <td>NaN</td>\n",
       "      <td>NaN</td>\n",
       "      <td>1</td>\n",
       "      <td>C</td>\n",
       "      <td>0</td>\n",
       "      <td>NaN</td>\n",
       "      <td>NaN</td>\n",
       "      <td>NaN</td>\n",
       "      <td>NaN</td>\n",
       "      <td>NaN</td>\n",
       "    </tr>\n",
       "    <tr>\n",
       "      <th>1547178</th>\n",
       "      <td>2008</td>\n",
       "      <td>10</td>\n",
       "      <td>22</td>\n",
       "      <td>3</td>\n",
       "      <td>1733</td>\n",
       "      <td>1715</td>\n",
       "      <td>NaN</td>\n",
       "      <td>1818</td>\n",
       "      <td>XE</td>\n",
       "      <td>2890</td>\n",
       "      <td>N16944</td>\n",
       "      <td>NaN</td>\n",
       "      <td>63</td>\n",
       "      <td>NaN</td>\n",
       "      <td>NaN</td>\n",
       "      <td>18</td>\n",
       "      <td>IAH</td>\n",
       "      <td>BTR</td>\n",
       "      <td>253</td>\n",
       "      <td>NaN</td>\n",
       "      <td>NaN</td>\n",
       "      <td>1</td>\n",
       "      <td>B</td>\n",
       "      <td>0</td>\n",
       "      <td>NaN</td>\n",
       "      <td>NaN</td>\n",
       "      <td>NaN</td>\n",
       "      <td>NaN</td>\n",
       "      <td>NaN</td>\n",
       "    </tr>\n",
       "    <tr>\n",
       "      <th>1548271</th>\n",
       "      <td>2008</td>\n",
       "      <td>10</td>\n",
       "      <td>15</td>\n",
       "      <td>3</td>\n",
       "      <td>1943</td>\n",
       "      <td>1745</td>\n",
       "      <td>NaN</td>\n",
       "      <td>1857</td>\n",
       "      <td>XE</td>\n",
       "      <td>2117</td>\n",
       "      <td>N26545</td>\n",
       "      <td>NaN</td>\n",
       "      <td>72</td>\n",
       "      <td>NaN</td>\n",
       "      <td>NaN</td>\n",
       "      <td>118</td>\n",
       "      <td>IAH</td>\n",
       "      <td>HRL</td>\n",
       "      <td>295</td>\n",
       "      <td>NaN</td>\n",
       "      <td>NaN</td>\n",
       "      <td>1</td>\n",
       "      <td>B</td>\n",
       "      <td>0</td>\n",
       "      <td>NaN</td>\n",
       "      <td>NaN</td>\n",
       "      <td>NaN</td>\n",
       "      <td>NaN</td>\n",
       "      <td>NaN</td>\n",
       "    </tr>\n",
       "    <tr>\n",
       "      <th>...</th>\n",
       "      <td>...</td>\n",
       "      <td>...</td>\n",
       "      <td>...</td>\n",
       "      <td>...</td>\n",
       "      <td>...</td>\n",
       "      <td>...</td>\n",
       "      <td>...</td>\n",
       "      <td>...</td>\n",
       "      <td>...</td>\n",
       "      <td>...</td>\n",
       "      <td>...</td>\n",
       "      <td>...</td>\n",
       "      <td>...</td>\n",
       "      <td>...</td>\n",
       "      <td>...</td>\n",
       "      <td>...</td>\n",
       "      <td>...</td>\n",
       "      <td>...</td>\n",
       "      <td>...</td>\n",
       "      <td>...</td>\n",
       "      <td>...</td>\n",
       "      <td>...</td>\n",
       "      <td>...</td>\n",
       "      <td>...</td>\n",
       "      <td>...</td>\n",
       "      <td>...</td>\n",
       "      <td>...</td>\n",
       "      <td>...</td>\n",
       "      <td>...</td>\n",
       "    </tr>\n",
       "    <tr>\n",
       "      <th>1934590</th>\n",
       "      <td>2008</td>\n",
       "      <td>12</td>\n",
       "      <td>7</td>\n",
       "      <td>7</td>\n",
       "      <td>1526</td>\n",
       "      <td>1444</td>\n",
       "      <td>NaN</td>\n",
       "      <td>1654</td>\n",
       "      <td>DL</td>\n",
       "      <td>1743</td>\n",
       "      <td>N958DL</td>\n",
       "      <td>NaN</td>\n",
       "      <td>130</td>\n",
       "      <td>NaN</td>\n",
       "      <td>NaN</td>\n",
       "      <td>42</td>\n",
       "      <td>BUF</td>\n",
       "      <td>ATL</td>\n",
       "      <td>712</td>\n",
       "      <td>NaN</td>\n",
       "      <td>NaN</td>\n",
       "      <td>1</td>\n",
       "      <td>A</td>\n",
       "      <td>0</td>\n",
       "      <td>NaN</td>\n",
       "      <td>NaN</td>\n",
       "      <td>NaN</td>\n",
       "      <td>NaN</td>\n",
       "      <td>NaN</td>\n",
       "    </tr>\n",
       "    <tr>\n",
       "      <th>1935491</th>\n",
       "      <td>2008</td>\n",
       "      <td>12</td>\n",
       "      <td>10</td>\n",
       "      <td>3</td>\n",
       "      <td>1431</td>\n",
       "      <td>1422</td>\n",
       "      <td>NaN</td>\n",
       "      <td>1527</td>\n",
       "      <td>DL</td>\n",
       "      <td>1405</td>\n",
       "      <td>N906DL</td>\n",
       "      <td>NaN</td>\n",
       "      <td>125</td>\n",
       "      <td>NaN</td>\n",
       "      <td>NaN</td>\n",
       "      <td>9</td>\n",
       "      <td>ATL</td>\n",
       "      <td>IAH</td>\n",
       "      <td>689</td>\n",
       "      <td>NaN</td>\n",
       "      <td>NaN</td>\n",
       "      <td>1</td>\n",
       "      <td>C</td>\n",
       "      <td>0</td>\n",
       "      <td>NaN</td>\n",
       "      <td>NaN</td>\n",
       "      <td>NaN</td>\n",
       "      <td>NaN</td>\n",
       "      <td>NaN</td>\n",
       "    </tr>\n",
       "    <tr>\n",
       "      <th>1935651</th>\n",
       "      <td>2008</td>\n",
       "      <td>12</td>\n",
       "      <td>10</td>\n",
       "      <td>3</td>\n",
       "      <td>1459</td>\n",
       "      <td>1447</td>\n",
       "      <td>NaN</td>\n",
       "      <td>1650</td>\n",
       "      <td>DL</td>\n",
       "      <td>1706</td>\n",
       "      <td>N914DN</td>\n",
       "      <td>NaN</td>\n",
       "      <td>123</td>\n",
       "      <td>NaN</td>\n",
       "      <td>NaN</td>\n",
       "      <td>12</td>\n",
       "      <td>ATL</td>\n",
       "      <td>BUF</td>\n",
       "      <td>712</td>\n",
       "      <td>NaN</td>\n",
       "      <td>37</td>\n",
       "      <td>1</td>\n",
       "      <td>A</td>\n",
       "      <td>0</td>\n",
       "      <td>NaN</td>\n",
       "      <td>NaN</td>\n",
       "      <td>NaN</td>\n",
       "      <td>NaN</td>\n",
       "      <td>NaN</td>\n",
       "    </tr>\n",
       "    <tr>\n",
       "      <th>1935876</th>\n",
       "      <td>2008</td>\n",
       "      <td>12</td>\n",
       "      <td>11</td>\n",
       "      <td>4</td>\n",
       "      <td>1026</td>\n",
       "      <td>955</td>\n",
       "      <td>NaN</td>\n",
       "      <td>1219</td>\n",
       "      <td>DL</td>\n",
       "      <td>892</td>\n",
       "      <td>N928DL</td>\n",
       "      <td>NaN</td>\n",
       "      <td>144</td>\n",
       "      <td>NaN</td>\n",
       "      <td>NaN</td>\n",
       "      <td>31</td>\n",
       "      <td>ATL</td>\n",
       "      <td>JFK</td>\n",
       "      <td>760</td>\n",
       "      <td>NaN</td>\n",
       "      <td>NaN</td>\n",
       "      <td>1</td>\n",
       "      <td>A</td>\n",
       "      <td>0</td>\n",
       "      <td>NaN</td>\n",
       "      <td>NaN</td>\n",
       "      <td>NaN</td>\n",
       "      <td>NaN</td>\n",
       "      <td>NaN</td>\n",
       "    </tr>\n",
       "    <tr>\n",
       "      <th>1936470</th>\n",
       "      <td>2008</td>\n",
       "      <td>12</td>\n",
       "      <td>12</td>\n",
       "      <td>5</td>\n",
       "      <td>703</td>\n",
       "      <td>630</td>\n",
       "      <td>NaN</td>\n",
       "      <td>734</td>\n",
       "      <td>DL</td>\n",
       "      <td>1372</td>\n",
       "      <td>N908DE</td>\n",
       "      <td>NaN</td>\n",
       "      <td>64</td>\n",
       "      <td>NaN</td>\n",
       "      <td>NaN</td>\n",
       "      <td>33</td>\n",
       "      <td>LGA</td>\n",
       "      <td>BOS</td>\n",
       "      <td>185</td>\n",
       "      <td>NaN</td>\n",
       "      <td>33</td>\n",
       "      <td>1</td>\n",
       "      <td>B</td>\n",
       "      <td>0</td>\n",
       "      <td>NaN</td>\n",
       "      <td>NaN</td>\n",
       "      <td>NaN</td>\n",
       "      <td>NaN</td>\n",
       "      <td>NaN</td>\n",
       "    </tr>\n",
       "  </tbody>\n",
       "</table>\n",
       "<p>633 rows × 29 columns</p>\n",
       "</div>"
      ],
      "text/plain": [
       "         Year  Month  DayofMonth  DayOfWeek  DepTime  CRSDepTime  ArrTime  \\\n",
       "1542406  2008     10          27          1     1622        1420      NaN   \n",
       "1546593  2008     10          25          6     1323        1255      NaN   \n",
       "1547161  2008     10          22          3     1825        1815      NaN   \n",
       "1547178  2008     10          22          3     1733        1715      NaN   \n",
       "1548271  2008     10          15          3     1943        1745      NaN   \n",
       "...       ...    ...         ...        ...      ...         ...      ...   \n",
       "1934590  2008     12           7          7     1526        1444      NaN   \n",
       "1935491  2008     12          10          3     1431        1422      NaN   \n",
       "1935651  2008     12          10          3     1459        1447      NaN   \n",
       "1935876  2008     12          11          4     1026         955      NaN   \n",
       "1936470  2008     12          12          5      703         630      NaN   \n",
       "\n",
       "         CRSArrTime UniqueCarrier  FlightNum TailNum  ActualElapsedTime  \\\n",
       "1542406        1520            WN         27  N601WN                NaN   \n",
       "1546593        1442            XE       2347  N26549                NaN   \n",
       "1547161        1927            XE       2819  N12946                NaN   \n",
       "1547178        1818            XE       2890  N16944                NaN   \n",
       "1548271        1857            XE       2117  N26545                NaN   \n",
       "...             ...           ...        ...     ...                ...   \n",
       "1934590        1654            DL       1743  N958DL                NaN   \n",
       "1935491        1527            DL       1405  N906DL                NaN   \n",
       "1935651        1650            DL       1706  N914DN                NaN   \n",
       "1935876        1219            DL        892  N928DL                NaN   \n",
       "1936470         734            DL       1372  N908DE                NaN   \n",
       "\n",
       "         CRSElapsedTime  AirTime  ArrDelay  DepDelay Origin Dest  Distance  \\\n",
       "1542406              60      NaN       NaN       122    HOU  HRL       276   \n",
       "1546593             107      NaN       NaN        28    CLT  EWR       529   \n",
       "1547161              72      NaN       NaN        10    JAN  IAH       351   \n",
       "1547178              63      NaN       NaN        18    IAH  BTR       253   \n",
       "1548271              72      NaN       NaN       118    IAH  HRL       295   \n",
       "...                 ...      ...       ...       ...    ...  ...       ...   \n",
       "1934590             130      NaN       NaN        42    BUF  ATL       712   \n",
       "1935491             125      NaN       NaN         9    ATL  IAH       689   \n",
       "1935651             123      NaN       NaN        12    ATL  BUF       712   \n",
       "1935876             144      NaN       NaN        31    ATL  JFK       760   \n",
       "1936470              64      NaN       NaN        33    LGA  BOS       185   \n",
       "\n",
       "         TaxiIn  TaxiOut  Cancelled CancellationCode  Diverted  CarrierDelay  \\\n",
       "1542406     NaN       19          1                A         0           NaN   \n",
       "1546593     NaN      NaN          1                B         0           NaN   \n",
       "1547161     NaN      NaN          1                C         0           NaN   \n",
       "1547178     NaN      NaN          1                B         0           NaN   \n",
       "1548271     NaN      NaN          1                B         0           NaN   \n",
       "...         ...      ...        ...              ...       ...           ...   \n",
       "1934590     NaN      NaN          1                A         0           NaN   \n",
       "1935491     NaN      NaN          1                C         0           NaN   \n",
       "1935651     NaN       37          1                A         0           NaN   \n",
       "1935876     NaN      NaN          1                A         0           NaN   \n",
       "1936470     NaN       33          1                B         0           NaN   \n",
       "\n",
       "         WeatherDelay  NASDelay  SecurityDelay  LateAircraftDelay  \n",
       "1542406           NaN       NaN            NaN                NaN  \n",
       "1546593           NaN       NaN            NaN                NaN  \n",
       "1547161           NaN       NaN            NaN                NaN  \n",
       "1547178           NaN       NaN            NaN                NaN  \n",
       "1548271           NaN       NaN            NaN                NaN  \n",
       "...               ...       ...            ...                ...  \n",
       "1934590           NaN       NaN            NaN                NaN  \n",
       "1935491           NaN       NaN            NaN                NaN  \n",
       "1935651           NaN       NaN            NaN                NaN  \n",
       "1935876           NaN       NaN            NaN                NaN  \n",
       "1936470           NaN       NaN            NaN                NaN  \n",
       "\n",
       "[633 rows x 29 columns]"
      ]
     },
     "execution_count": 13,
     "metadata": {},
     "output_type": "execute_result"
    }
   ],
   "source": [
    "filas_con_nulos1 = datos[datos[\"Cancelled\"]==1]\n",
    "filas_con_nulos1"
   ]
  },
  {
   "cell_type": "code",
   "execution_count": 14,
   "id": "d27d5452",
   "metadata": {},
   "outputs": [
    {
     "data": {
      "text/plain": [
       "Series([], Name: ArrDelay, dtype: int64)"
      ]
     },
     "execution_count": 14,
     "metadata": {},
     "output_type": "execute_result"
    }
   ],
   "source": [
    "filas_con_nulos1[\"ArrDelay\"].value_counts()"
   ]
  },
  {
   "cell_type": "markdown",
   "id": "0c14fc8f",
   "metadata": {},
   "source": [
    "#### 5. Verifico en qué situación hay datos de las causas de Arrdelay, es decir, cuando se considera que hay un retraso.\n",
    "\n",
    "#### Lo hago asuminedo qeu contabilizan retraso cuando hay datos de: CarrierDelay, WeatherDelay, NASDelay, SecurityDelay, LateAircraftDelay"
   ]
  },
  {
   "cell_type": "code",
   "execution_count": 15,
   "id": "6b361063",
   "metadata": {},
   "outputs": [
    {
     "data": {
      "text/plain": [
       "count   1247488\n",
       "mean         63\n",
       "std          61\n",
       "min          15\n",
       "25%          26\n",
       "50%          43\n",
       "75%          79\n",
       "max        2461\n",
       "Name: ArrDelay, dtype: float64"
      ]
     },
     "execution_count": 15,
     "metadata": {},
     "output_type": "execute_result"
    }
   ],
   "source": [
    "datos_ArrDelay = datos.loc[(~datos[\"CarrierDelay\"].isna()) & (~datos[\"WeatherDelay\"].isna()) & (~datos[\"NASDelay\"].isna()) & (~datos[\"SecurityDelay\"].isna()) & (~datos[\"LateAircraftDelay\"].isna()), \"ArrDelay\"]\n",
    "datos_ArrDelay.describe()"
   ]
  },
  {
   "cell_type": "markdown",
   "id": "e2f5dbbb",
   "metadata": {},
   "source": [
    "Podemos ver que el valor mínimo es de 15 min, es decir, por debajo de 15 min se considera que no hay retraso."
   ]
  },
  {
   "cell_type": "markdown",
   "id": "013a270d",
   "metadata": {},
   "source": [
    "### Conclusiones del analisis de valores Nan:\n",
    "- Cuando **cancelamos vuelos (Cancelled)**: ArrTime, ActualElapsedTime, AirTime, ArrDelay, TaxiIn (y las causas de retraso en llegadas, CarrierDelay, WeatherDelay, NASDelay, SecurityDelay, LateAircraftDelay) son Nan, ya que el avion no vuela. Ojo si hay retraso en salidas, si que está contado aunque no vuele.\n",
    "- Cuando **desviamos vuelos (Diverted)**: ActualElapsedTime, AirTime, ArrDelay (y las causas de retraso en llegadas) son Nan. Ojo si hay retraso en salidas, si que está contado.\n",
    "- Todos los **CRSElapsedTime** Nan aparecen con vuelos desviados.\n",
    "- Cuando **TaxiIn** es Nan, ArrTime, ActualElapsedTime, AirTime, ArrDelay son Nan, porque el avion ha sido **cancelado**, no así si ha sido desviado.\n",
    "- Cuando **TaxiOut** es Nan, ArrTime, ActualElapsedTime, AirTime, ArrDelay, TaxiIn son Nan \n",
    "- No se cosndieran oficialmente retraso en vuelos con retrasos en la llegada inferiores a 15 min, y por tanto, en este caso, no se contabilizan las causas (CarrierDelay, WeatherDelay, NASDelay, SecurityDelay, LateAircraftDelay) ."
   ]
  },
  {
   "cell_type": "code",
   "execution_count": 16,
   "id": "122ee0db",
   "metadata": {},
   "outputs": [],
   "source": [
    "pd.reset_option('display.max_columns') # Ya no necesito ver todas las columnas"
   ]
  },
  {
   "cell_type": "markdown",
   "id": "30760bd6",
   "metadata": {},
   "source": [
    "#### 6. Hago una matriz de correlación graficándola para analizar relaciones:"
   ]
  },
  {
   "cell_type": "code",
   "execution_count": 17,
   "id": "8b7d900b",
   "metadata": {},
   "outputs": [],
   "source": [
    "Correl = datos.corr()"
   ]
  },
  {
   "cell_type": "markdown",
   "id": "0801698b",
   "metadata": {},
   "source": [
    "Grafico la matriz de correlación con un histograma de heatmap por su facilidad de análisis:"
   ]
  },
  {
   "cell_type": "code",
   "execution_count": 18,
   "id": "9cd96db5",
   "metadata": {},
   "outputs": [
    {
     "data": {
      "image/png": "[encoded data removed]",
      "text/plain": [
       "<Figure size 1080x648 with 2 Axes>"
      ]
     },
     "metadata": {
      "needs_background": "light"
     },
     "output_type": "display_data"
    }
   ],
   "source": [
    "f, ax = plt.subplots(figsize=(15, 9))\n",
    "sns.heatmap(Correl, square=True);\n",
    "plt.show()"
   ]
  },
  {
   "cell_type": "markdown",
   "id": "95d3cf32",
   "metadata": {},
   "source": [
    "### Observaciones a la matriz de correlación:\n",
    "1. Para los vuelos cancelados (cancellation), nos confirma (como dijimos anteriormente) que no hay correlación con el Arrtime, ActualElapsedtime, AirTime y ArrDelay (y sus causas), TaxiIn: dado que se trata de una cancelación, no ha volado.\n",
    "2. En el caso de desvios (Diverted) estamos con la misma falta de correlación que con las cancelaciones excepto con el Arrtime, y el TaxiIn, porque ha volado pero se ha desviado a otro aeropuerto, y no se ha contabilizado el ArrDelay.\n",
    "3. ArrDelay y DepDelay estan muy correlados.\n",
    "4. Distance está muy correlado con El ActualElapsedTime, CRSElapsedTime y Airtime como es lógico."
   ]
  },
  {
   "cell_type": "markdown",
   "id": "e15471af",
   "metadata": {},
   "source": [
    "#### 7. Para facilitar el trabajo y eliminar las columnas Year, Month y DayofMonth, agrupo las fechas en una columna datetime:"
   ]
  },
  {
   "cell_type": "code",
   "execution_count": 19,
   "id": "943f97c0",
   "metadata": {},
   "outputs": [],
   "source": [
    "datos[\"Depdate\"] = pd.to_datetime(datos.Year*10000+datos.Month*100+datos.DayofMonth,format=\"%Y%m%d\")"
   ]
  },
  {
   "cell_type": "markdown",
   "id": "ae67e6a2",
   "metadata": {},
   "source": [
    "#### 8. Para decidir qué variables eliminar me escribo las preguntas que quiero resolver (incluyen las del ejercicio 2):\n",
    "\n",
    "a) Genéricas:\n",
    "- ¿Cuantos datos faltantes hay por columna? **(ya evaluado)**\n",
    "- Columnas nuevas: ¿Cual es la velocidad media del vuelo? ¿Llega tarde o no?\n",
    "- ¿Cual es la distribución % entre retrasos, Cancelaciones y desvios?\n",
    "\n",
    "b) Retrasos:\n",
    "- ¿Cuales son los meses con mas retrasos?\n",
    "- ¿Cuales son los dias de las semanas con mas retrasos?\n",
    "- ¿Tabla de las aerolineas con mas retrasos acumulados?\n",
    "- ¿Cuales son los aeropuertos con mas retrasos?\n",
    "- ¿Cuales son las rutas mas largas?, ¿Cuales son las que acumulan mas retrasos las largas o las cortas?\n",
    "- ¿Los retrasos en la salida estan asociados a los retrasos en llegada, o son recuperados?\n",
    "- ¿Cual es la distribución porcentual de cancelaciones, retrasos y desvios del total de vuelos?\n",
    "- ¿Cuales son las horas con mas retrasos?\n",
    "\n",
    "c) Cancelaciones:\n",
    "- ¿Cuales son los meses con mas cancelaciones?\n",
    "- ¿Cuales son los dias de las semanas con más cancelaciones?\n",
    "- ¿A qué horas hay más cancelaciones?\n",
    "- ¿Cuales se cancelan mas, los de larga o corta distancia?\n",
    "- ¿A partir de cuanto tiempo de taxiOut hay alta probabilidad de que cancelen el despegue?\n",
    "- ¿Cual es la distribución de las causas de cancelaciones?\n",
    "\n",
    "d) Desvios:\n",
    "- ¿De los vuelos retrasados cuantos son desviados?"
   ]
  },
  {
   "cell_type": "markdown",
   "id": "9b9d5d3c",
   "metadata": {},
   "source": [
    "#### 9. Hago la siguinte selección de columnas:\n",
    "\n",
    "\n",
    "|        Columna         | La mantengo? |        Razón                                                                   |\n",
    "| ---------------------- | ------------ | ------------------------------------------------------------------------------ |\n",
    "|        Unnamed 0       |     No       |   Ya la he quitado                                                             |\n",
    "|        Year            |     No       |   Toda la info es del mismo año y lo junto en un datetime                      |\n",
    "|        Month           |     No       |   La utilizaré pero la tengo en un datetime                                    |\n",
    "|       DayofMonth       |     No       |   No la necesito pero la tengo en un datetime por si acaso                     |\n",
    "|       DayOfWeek        |     Si       |   Quiero saber si hay relación por días de la semana                           |\n",
    "|       DepTime          |     Si       |   Me interesa saber la hora real de salida                                     |\n",
    "|       CRSDepTime       |     Si       |   Me interesa saber la hora prevista de salida                                 |\n",
    "|       ArrTime          |     Si       |   Me interesa saber la hora real de llegada                                    |\n",
    "|       CRSArrTime       |     Si       |   Me interesa saber la hora prevista de llegada                                |  |       UNiqueCarrier    |     Si       |   Definiré los vuelos por su código de Carrrier                                |\n",
    "|       FlightNum        |     No       |   Ya tengo el Código de Carrier                                                |\n",
    "|       TailNum          |     No       |   Ya tengo el Código de Carrier                                                |  |   ActualElapsedTime    |     Si       |   Me interesa el tiempo real total puerta a puerta:TaxiIn + TaxiOut + AirTime  |\n",
    "|   CRSElapsedTime       |     Si       |   Me interesa el tiempo total puerta a puerta estimado                         |\n",
    "|       AirTime          |     Si       |   Lo necesito para saber la velocidad media de los vuelos                      |\n",
    "|       ArrDelay         |     Si       |   Me interesa saber el retraso en la llegada frente al CSR previsto            |\n",
    "|       DepDelay         |     Si       |   Me interesa saber el retraso en la salida frente al CSR previsto             |\n",
    "|       Origin           |     Si       |   Me interesa saber el aeropuerto de origen                                    |\n",
    "|       Dest             |     Si       |   Me interesa saber el aeropuerto de destino                                   |\n",
    "|       Distance         |     Si       |   Me interesa saber la distancia a recorrer                                    |\n",
    "|       TaxiIn           |     Si       |   Para ver el grado de aportación a los retrasos                               |\n",
    "|       TaxiOut          |     Si       |   Para verificar si hay un valor a partir del cual se producen cancelaciones   |\n",
    "|       Cancelled        |     Si       |   Para tabajar con las cancelaciones                                           |\n",
    "|   CancellationCode     |     Si       |   Para tabajar con las cancelaciones                                           |\n",
    "|       Diverted         |     Si       |   Para tabajar con los desvios                                                 |\n",
    "|     CarrierDelay       |     Si       |   Para tabajar con las causas de retraso en salidas                            |\n",
    "|     CarrierDelay       |     Si       |   Para tabajar con las causas de retraso en salida, vuelo o llegadas           |\n",
    "|       NASDelay         |     Si       |   Para tabajar con las causas de retraso en salida, vuelo o llegadas           |\n",
    "|     SecurityDelay      |     Si       |   Para tabajar con las causas de retraso en salida, vuelo o llegadas           |\n",
    "|   LateAircraftDelay    |     Si       |   Para tabajar con las causas de propagación del retraso                       |\n"
   ]
  },
  {
   "cell_type": "markdown",
   "id": "a2cef99f",
   "metadata": {},
   "source": [
    "### 1.3 Limpiamos la base de datos que a partir de ahora llamaré df:"
   ]
  },
  {
   "cell_type": "markdown",
   "id": "041c0727",
   "metadata": {},
   "source": [
    "Elimino primero las columnas que no me interesan y luego reduzco la base de datos a 200.000 registros:"
   ]
  },
  {
   "cell_type": "code",
   "execution_count": 20,
   "id": "ab67514e",
   "metadata": {},
   "outputs": [
    {
     "data": {
      "text/html": [
       "<div>\n",
       "<style scoped>\n",
       "    .dataframe tbody tr th:only-of-type {\n",
       "        vertical-align: middle;\n",
       "    }\n",
       "\n",
       "    .dataframe tbody tr th {\n",
       "        vertical-align: top;\n",
       "    }\n",
       "\n",
       "    .dataframe thead th {\n",
       "        text-align: right;\n",
       "    }\n",
       "</style>\n",
       "<table border=\"1\" class=\"dataframe\">\n",
       "  <thead>\n",
       "    <tr style=\"text-align: right;\">\n",
       "      <th></th>\n",
       "      <th>Depdate</th>\n",
       "      <th>DayOfWeek</th>\n",
       "      <th>DepTime</th>\n",
       "      <th>CRSDepTime</th>\n",
       "      <th>ArrTime</th>\n",
       "      <th>CRSArrTime</th>\n",
       "      <th>UniqueCarrier</th>\n",
       "      <th>ActualElapsedTime</th>\n",
       "      <th>CRSElapsedTime</th>\n",
       "      <th>AirTime</th>\n",
       "      <th>...</th>\n",
       "      <th>TaxiIn</th>\n",
       "      <th>TaxiOut</th>\n",
       "      <th>Cancelled</th>\n",
       "      <th>CancellationCode</th>\n",
       "      <th>Diverted</th>\n",
       "      <th>CarrierDelay</th>\n",
       "      <th>WeatherDelay</th>\n",
       "      <th>NASDelay</th>\n",
       "      <th>SecurityDelay</th>\n",
       "      <th>LateAircraftDelay</th>\n",
       "    </tr>\n",
       "  </thead>\n",
       "  <tbody>\n",
       "    <tr>\n",
       "      <th>1392048</th>\n",
       "      <td>2008-08-03</td>\n",
       "      <td>7</td>\n",
       "      <td>1033</td>\n",
       "      <td>955</td>\n",
       "      <td>1320</td>\n",
       "      <td>1220</td>\n",
       "      <td>AA</td>\n",
       "      <td>287</td>\n",
       "      <td>265</td>\n",
       "      <td>259</td>\n",
       "      <td>...</td>\n",
       "      <td>4</td>\n",
       "      <td>24</td>\n",
       "      <td>0</td>\n",
       "      <td>N</td>\n",
       "      <td>0</td>\n",
       "      <td>0</td>\n",
       "      <td>38</td>\n",
       "      <td>22</td>\n",
       "      <td>0</td>\n",
       "      <td>0</td>\n",
       "    </tr>\n",
       "    <tr>\n",
       "      <th>1281838</th>\n",
       "      <td>2008-08-17</td>\n",
       "      <td>7</td>\n",
       "      <td>1545</td>\n",
       "      <td>1535</td>\n",
       "      <td>1633</td>\n",
       "      <td>1625</td>\n",
       "      <td>WN</td>\n",
       "      <td>48</td>\n",
       "      <td>50</td>\n",
       "      <td>38</td>\n",
       "      <td>...</td>\n",
       "      <td>3</td>\n",
       "      <td>7</td>\n",
       "      <td>0</td>\n",
       "      <td>N</td>\n",
       "      <td>0</td>\n",
       "      <td>NaN</td>\n",
       "      <td>NaN</td>\n",
       "      <td>NaN</td>\n",
       "      <td>NaN</td>\n",
       "      <td>NaN</td>\n",
       "    </tr>\n",
       "    <tr>\n",
       "      <th>4751</th>\n",
       "      <td>2008-01-05</td>\n",
       "      <td>6</td>\n",
       "      <td>2105</td>\n",
       "      <td>2005</td>\n",
       "      <td>2228</td>\n",
       "      <td>2120</td>\n",
       "      <td>WN</td>\n",
       "      <td>83</td>\n",
       "      <td>75</td>\n",
       "      <td>71</td>\n",
       "      <td>...</td>\n",
       "      <td>4</td>\n",
       "      <td>8</td>\n",
       "      <td>0</td>\n",
       "      <td>N</td>\n",
       "      <td>0</td>\n",
       "      <td>12</td>\n",
       "      <td>0</td>\n",
       "      <td>8</td>\n",
       "      <td>0</td>\n",
       "      <td>48</td>\n",
       "    </tr>\n",
       "    <tr>\n",
       "      <th>795373</th>\n",
       "      <td>2008-05-05</td>\n",
       "      <td>1</td>\n",
       "      <td>1759</td>\n",
       "      <td>1745</td>\n",
       "      <td>1904</td>\n",
       "      <td>1857</td>\n",
       "      <td>UA</td>\n",
       "      <td>125</td>\n",
       "      <td>132</td>\n",
       "      <td>110</td>\n",
       "      <td>...</td>\n",
       "      <td>6</td>\n",
       "      <td>9</td>\n",
       "      <td>0</td>\n",
       "      <td>N</td>\n",
       "      <td>0</td>\n",
       "      <td>NaN</td>\n",
       "      <td>NaN</td>\n",
       "      <td>NaN</td>\n",
       "      <td>NaN</td>\n",
       "      <td>NaN</td>\n",
       "    </tr>\n",
       "    <tr>\n",
       "      <th>194142</th>\n",
       "      <td>2008-02-10</td>\n",
       "      <td>7</td>\n",
       "      <td>1251</td>\n",
       "      <td>1245</td>\n",
       "      <td>1449</td>\n",
       "      <td>1440</td>\n",
       "      <td>WN</td>\n",
       "      <td>118</td>\n",
       "      <td>115</td>\n",
       "      <td>93</td>\n",
       "      <td>...</td>\n",
       "      <td>4</td>\n",
       "      <td>21</td>\n",
       "      <td>0</td>\n",
       "      <td>N</td>\n",
       "      <td>0</td>\n",
       "      <td>NaN</td>\n",
       "      <td>NaN</td>\n",
       "      <td>NaN</td>\n",
       "      <td>NaN</td>\n",
       "      <td>NaN</td>\n",
       "    </tr>\n",
       "  </tbody>\n",
       "</table>\n",
       "<p>5 rows × 25 columns</p>\n",
       "</div>"
      ],
      "text/plain": [
       "           Depdate  DayOfWeek  DepTime  CRSDepTime  ArrTime  CRSArrTime  \\\n",
       "1392048 2008-08-03          7     1033         955     1320        1220   \n",
       "1281838 2008-08-17          7     1545        1535     1633        1625   \n",
       "4751    2008-01-05          6     2105        2005     2228        2120   \n",
       "795373  2008-05-05          1     1759        1745     1904        1857   \n",
       "194142  2008-02-10          7     1251        1245     1449        1440   \n",
       "\n",
       "        UniqueCarrier  ActualElapsedTime  CRSElapsedTime  AirTime  ...  \\\n",
       "1392048            AA                287             265      259  ...   \n",
       "1281838            WN                 48              50       38  ...   \n",
       "4751               WN                 83              75       71  ...   \n",
       "795373             UA                125             132      110  ...   \n",
       "194142             WN                118             115       93  ...   \n",
       "\n",
       "         TaxiIn  TaxiOut Cancelled CancellationCode  Diverted  CarrierDelay  \\\n",
       "1392048       4       24         0                N         0             0   \n",
       "1281838       3        7         0                N         0           NaN   \n",
       "4751          4        8         0                N         0            12   \n",
       "795373        6        9         0                N         0           NaN   \n",
       "194142        4       21         0                N         0           NaN   \n",
       "\n",
       "         WeatherDelay  NASDelay SecurityDelay  LateAircraftDelay  \n",
       "1392048            38        22             0                  0  \n",
       "1281838           NaN       NaN           NaN                NaN  \n",
       "4751                0         8             0                 48  \n",
       "795373            NaN       NaN           NaN                NaN  \n",
       "194142            NaN       NaN           NaN                NaN  \n",
       "\n",
       "[5 rows x 25 columns]"
      ]
     },
     "execution_count": 20,
     "metadata": {},
     "output_type": "execute_result"
    }
   ],
   "source": [
    "df = datos.drop(columns=[\"Year\", \"Month\", \"DayofMonth\", \"FlightNum\", \"TailNum\"]) # Elimino las columnas que no necesito\n",
    "df.insert(0, \"Depdate\", df.pop(\"Depdate\"))             # Quiero poner primero la columna Depdate que he creado\n",
    "df = df.sample(n=200000)                               # Y reduzco la muestra a 200000 filas.\n",
    "df.head()"
   ]
  },
  {
   "cell_type": "code",
   "execution_count": 21,
   "id": "1f53ef4d",
   "metadata": {},
   "outputs": [
    {
     "data": {
      "text/plain": [
       "(200000, 25)"
      ]
     },
     "execution_count": 21,
     "metadata": {},
     "output_type": "execute_result"
    }
   ],
   "source": [
    "df.shape"
   ]
  },
  {
   "cell_type": "markdown",
   "id": "93050b97",
   "metadata": {},
   "source": [
    "# Exercici 2\n",
    "## Fes un informe complet del dataset:\n",
    "\n",
    "* Resumeix estadísticament el dataset i les columnes d’interès. Fes una anàlisi estadístic del que consideris rellevant.\n",
    "* Troba quantes dades faltants hi ha per columna.\n",
    "* Crea columnes noves (velocitat mitjana del vol, si ha arribat tard o no...).\n",
    "* Fes una taula de les aerolínies amb més endarreriments acumulats.\n",
    "* Quins són els vols més llargs? I els més endarrerits? Busca les rutes més llargues i les que acumulen més retards.\n",
    "* Aporta allò que consideris rellevant.\n",
    "\n",
    "Nota: Seguiré los puntos del ejercicio, para que no haya dudas de que está hecho y al final haré un análisis mas extenso)"
   ]
  },
  {
   "cell_type": "markdown",
   "id": "9c9a2820",
   "metadata": {},
   "source": [
    "#### 1. Resumen estadístico de las variables interesantes:"
   ]
  },
  {
   "cell_type": "markdown",
   "id": "cf574a76",
   "metadata": {},
   "source": [
    "Graficaré algunas variables interesantes de las que podemos extraer info.\n",
    "Para evitar escribir toda la programación cada vez, creo una función:"
   ]
  },
  {
   "cell_type": "code",
   "execution_count": 22,
   "id": "151e448f",
   "metadata": {},
   "outputs": [],
   "source": [
    "def R_estad(columna):\n",
    "    filtered = df.loc[~np.isnan(df[columna]), columna]             # Elimino los valores Nul o Nan de la variable\n",
    "    fig, (ax1, ax2, ax3) = plt.subplots(ncols=3, figsize=(15, 5))  # Creo tres columnas graficas de tamaño 15x4\n",
    "    ax1.set_title(\"Estadísticas\")                                  # Creo el título de la primera columna\n",
    "    ax1.text(0.2, 0.2, str(filtered.describe()), fontsize=16)      # Estadisticas con .describe(), coordenadas (0.2,0.2), tamaño de texto 16\n",
    "    ax2.boxplot(filtered, vert=False)                              # Grafico de cajas. vert=False para dibujarlo horizontal\n",
    "    ax2.set_title(\"Distribución de \" + columna)                    # Creo el título de la segunda columna\n",
    "    ax3.hist(filtered, bins=200)                                   # Creo el histograma con ventanas de 200\n",
    "    ax3.set_title('Histograma')                                    # Creo el título de la tercera columna\n",
    "    plt.show()\n",
    "    return"
   ]
  },
  {
   "cell_type": "markdown",
   "id": "c58dc34d",
   "metadata": {},
   "source": [
    "#### DepTime (Hora local de salida)"
   ]
  },
  {
   "cell_type": "code",
   "execution_count": 23,
   "id": "93f8c91b",
   "metadata": {},
   "outputs": [
    {
     "data": {
      "image/png": "[encoded data removed]",
      "text/plain": [
       "<Figure size 1080x360 with 3 Axes>"
      ]
     },
     "metadata": {
      "needs_background": "light"
     },
     "output_type": "display_data"
    }
   ],
   "source": [
    "R_estad(\"DepTime\")"
   ]
  },
  {
   "cell_type": "markdown",
   "id": "792dfdfb",
   "metadata": {},
   "source": [
    "Observamos que la media de salidas es alreadedor de las 15:19 con un 25% de vuelos despegados antes de las 12h, un 50% entre las 12h y las 19h, y el 25% restante y hasta las 24h."
   ]
  },
  {
   "cell_type": "markdown",
   "id": "bee30c29",
   "metadata": {},
   "source": [
    "#### ArrTime (Hora local de llegada)"
   ]
  },
  {
   "cell_type": "code",
   "execution_count": 24,
   "id": "ac5bc248",
   "metadata": {
    "scrolled": true
   },
   "outputs": [
    {
     "data": {
      "image/png": "[encoded data removed]",
      "text/plain": [
       "<Figure size 1080x360 with 3 Axes>"
      ]
     },
     "metadata": {
      "needs_background": "light"
     },
     "output_type": "display_data"
    }
   ],
   "source": [
    "R_estad(\"ArrTime\")"
   ]
  },
  {
   "cell_type": "markdown",
   "id": "41f42110",
   "metadata": {},
   "source": [
    "La media de llegadas se produce alrededor de las 16h, siendo la llegada del 50% de los vuelos entre las 13:15 ylas 20:30h, aunque vemos que hay una cantidad de vuelos que llegan despues de las 00h. "
   ]
  },
  {
   "cell_type": "markdown",
   "id": "34b65072",
   "metadata": {},
   "source": [
    "#### CRSElapsedTime  y ActualElapsedTime (Duranción vuelo puerta a puerta, prevista y real)"
   ]
  },
  {
   "cell_type": "code",
   "execution_count": 25,
   "id": "ef148041",
   "metadata": {
    "scrolled": false
   },
   "outputs": [
    {
     "data": {
      "image/png": "[encoded data removed]",
      "text/plain": [
       "<Figure size 1080x360 with 3 Axes>"
      ]
     },
     "metadata": {
      "needs_background": "light"
     },
     "output_type": "display_data"
    },
    {
     "data": {
      "image/png": "[encoded data removed]",
      "text/plain": [
       "<Figure size 1080x360 with 3 Axes>"
      ]
     },
     "metadata": {
      "needs_background": "light"
     },
     "output_type": "display_data"
    }
   ],
   "source": [
    "columnas = [\"CRSElapsedTime\", \"ActualElapsedTime\"]\n",
    "for col in columnas:\n",
    "    R_estad(col)"
   ]
  },
  {
   "cell_type": "markdown",
   "id": "929e6615",
   "metadata": {},
   "source": [
    "Observamos que aunque la distribución de ambas es similar la curva está muy desplazada a la izquierda, eso quiere decir que en realidad estamos viendo dos muestras:\n",
    "- Una con alta densidad de vuelos mas cortos, donde la media está alrededor de 135 min de puerta a puerta con retrasos mas limitados en tiempo, y recuperados en el conjunto, haciendo que los cuartiles sean muy similares.\n",
    "- Otra con vuelos de larga distancia donde el timepo de puerta donde habiendo estimado un máximo de duración de 660min pueden lelgar a ser 711min (51 min de retraso), no recuperando los retrasos en el conjunto."
   ]
  },
  {
   "cell_type": "markdown",
   "id": "e9aadfed",
   "metadata": {},
   "source": [
    "#### AirTime y Distance (Tiempo de vuelo y Distancia)"
   ]
  },
  {
   "cell_type": "code",
   "execution_count": 26,
   "id": "fb3e4d70",
   "metadata": {},
   "outputs": [
    {
     "data": {
      "image/png": "[encoded data removed]",
      "text/plain": [
       "<Figure size 1080x360 with 3 Axes>"
      ]
     },
     "metadata": {
      "needs_background": "light"
     },
     "output_type": "display_data"
    },
    {
     "data": {
      "image/png": "[encoded data removed]",
      "text/plain": [
       "<Figure size 1080x360 with 3 Axes>"
      ]
     },
     "metadata": {
      "needs_background": "light"
     },
     "output_type": "display_data"
    }
   ],
   "source": [
    "columnas = [\"AirTime\", \"Distance\"]\n",
    "for col in columnas:\n",
    "    R_estad(col)"
   ]
  },
  {
   "cell_type": "markdown",
   "id": "b28e4399",
   "metadata": {},
   "source": [
    "Como visto anteriormente, la curva esta desplazda a la izquierda por la gran densidad de vuelos de corta duranción (una media cerca de 90min).\n",
    "Los vuelos en su mayoria duran de media 109 min, observando nuevamente un salto muy elevado entre el percentil 75% y el 100%, donde podemos tener tiempos de vuelo de hasta 655min.\n",
    "\n",
    "A nivel de distancias, evidentemente la curva es equivalente, excepto retrasos, siendo la emdia recorrida de 768 millas, donde la corta distancia la podemos asumir entre o y 1000 millas, llegando los vuelos de larga distancia a los 4962millas. Entre las 1000millas y los 2500millas se producen la mayoría de vuelos de larga distnacia.\n",
    "\n",
    "Nota: No estamos viendo en Airtime los vuelos cancelados al no volar o desviados porque no se recoge la información."
   ]
  },
  {
   "cell_type": "markdown",
   "id": "aceff77a",
   "metadata": {},
   "source": [
    "#### DepDelay (Tiempo de Retraso en salidas)"
   ]
  },
  {
   "cell_type": "code",
   "execution_count": 27,
   "id": "ba8a6a9e",
   "metadata": {},
   "outputs": [
    {
     "data": {
      "image/png": "[encoded data removed]",
      "text/plain": [
       "<Figure size 1080x360 with 3 Axes>"
      ]
     },
     "metadata": {
      "needs_background": "light"
     },
     "output_type": "display_data"
    }
   ],
   "source": [
    "R_estad(\"DepDelay\")"
   ]
  },
  {
   "cell_type": "markdown",
   "id": "a0b4f84d",
   "metadata": {},
   "source": [
    "Observamos que la media de retraso en salidas en de 43 min, muy limitada viendo la  desviación típica, y desplazada a la izquierda con un 25% de vuelos con retrasos de salida entre 53min y 1521 min.\n",
    "\n",
    "Nota: incluye vuelos cancelados y desviados."
   ]
  },
  {
   "cell_type": "markdown",
   "id": "f4f4dbeb",
   "metadata": {},
   "source": [
    "#### ArrDelay (Tiempo de Retraso en llegada)"
   ]
  },
  {
   "cell_type": "code",
   "execution_count": 28,
   "id": "ae1aba26",
   "metadata": {
    "scrolled": true
   },
   "outputs": [
    {
     "data": {
      "image/png": "[encoded data removed]",
      "text/plain": [
       "<Figure size 1080x360 with 3 Axes>"
      ]
     },
     "metadata": {
      "needs_background": "light"
     },
     "output_type": "display_data"
    }
   ],
   "source": [
    "R_estad(\"ArrDelay\")"
   ]
  },
  {
   "cell_type": "markdown",
   "id": "4056745f",
   "metadata": {},
   "source": [
    "Vemos un comporntamiento desplazado a la izquierda por el efecto de la alta densidad de vuelos de corta distancia y la baja de vuelos de larga distancia.\n",
    "La media de retraso es de 42min, similar al de salidas, con una desviación estandar muy pequeña. Peude ser debido a una gestión de los retrasos en vuelos de corta distancia o a que se produzcan siempre lso mismos retrasos para los mismos vuelos.\n",
    "Como visto anteriormente, los retrasos para vuelos de larga distancia peuden llegar a ser enormes.\n",
    "\n",
    "Nota: no incluye vuelos cancelados por no volar, ni desviados por no tener datos objetivos de llegada."
   ]
  },
  {
   "cell_type": "markdown",
   "id": "7003c77e",
   "metadata": {},
   "source": [
    "#### TaxiIn y TaxiOut (tiempo de taxi tras el aterrizaje y antes del despegue)"
   ]
  },
  {
   "cell_type": "code",
   "execution_count": 29,
   "id": "cbc8007c",
   "metadata": {},
   "outputs": [
    {
     "data": {
      "image/png": "[encoded data removed]",
      "text/plain": [
       "<Figure size 1080x360 with 3 Axes>"
      ]
     },
     "metadata": {
      "needs_background": "light"
     },
     "output_type": "display_data"
    },
    {
     "data": {
      "image/png": "[encoded data removed]",
      "text/plain": [
       "<Figure size 1080x360 with 3 Axes>"
      ]
     },
     "metadata": {
      "needs_background": "light"
     },
     "output_type": "display_data"
    }
   ],
   "source": [
    "columnas = [\"TaxiIn\", \"TaxiOut\"]\n",
    "for col in columnas:\n",
    "    R_estad(col)"
   ]
  },
  {
   "cell_type": "markdown",
   "id": "facf4448",
   "metadata": {},
   "source": [
    "Nuevamente vemos distribuciones concentradas a la izquierda en la media de 7min para el TaxiIn y 18min para el TaxiOut.\n",
    "En el caso del TaxiIn, los timepos están muy cooncentrados con una desviación estandar de 5 y el 75% de los valores en 8minutos, aunque pueden llegar a ser de 199.\n",
    "En el caso de TaxiOut, tiene el 75% de los datos por debajo de 21min, pero con valores máximos de hasta 386min y una desviación estandar mayor.\n",
    "\n",
    "Habrá que verificar si hay una correlacióne entre los tiempos de TaxiOut y las cancelaciones."
   ]
  },
  {
   "cell_type": "markdown",
   "id": "df052992",
   "metadata": {},
   "source": [
    "#### 2. Datos faltantes por columna"
   ]
  },
  {
   "cell_type": "markdown",
   "id": "f48192e7",
   "metadata": {},
   "source": [
    "Para ver los datos faltantes por columnas en el dataframe df aplico .isna().sum()"
   ]
  },
  {
   "cell_type": "code",
   "execution_count": 30,
   "id": "9e4852f8",
   "metadata": {
    "scrolled": true
   },
   "outputs": [
    {
     "data": {
      "text/plain": [
       "Depdate                  0\n",
       "DayOfWeek                0\n",
       "DepTime                  0\n",
       "CRSDepTime               0\n",
       "ArrTime                747\n",
       "CRSArrTime               0\n",
       "UniqueCarrier            0\n",
       "ActualElapsedTime      891\n",
       "CRSElapsedTime          24\n",
       "AirTime                891\n",
       "ArrDelay               891\n",
       "DepDelay                 0\n",
       "Origin                   0\n",
       "Dest                     0\n",
       "Distance                 0\n",
       "TaxiIn                 747\n",
       "TaxiOut                 50\n",
       "Cancelled                0\n",
       "CancellationCode         0\n",
       "Diverted                 0\n",
       "CarrierDelay         70898\n",
       "WeatherDelay         70898\n",
       "NASDelay             70898\n",
       "SecurityDelay        70898\n",
       "LateAircraftDelay    70898\n",
       "dtype: int64"
      ]
     },
     "execution_count": 30,
     "metadata": {},
     "output_type": "execute_result"
    }
   ],
   "source": [
    "df.isna().sum()"
   ]
  },
  {
   "cell_type": "markdown",
   "id": "e0ceafc9",
   "metadata": {},
   "source": [
    "Datos que ya he analizado previamente."
   ]
  },
  {
   "cell_type": "markdown",
   "id": "474453db",
   "metadata": {},
   "source": [
    "#### 3. Crear columnas nuevas"
   ]
  },
  {
   "cell_type": "markdown",
   "id": "630b5681",
   "metadata": {},
   "source": [
    "He creado ya la columna Depdate, pero crearé alguna mas:"
   ]
  },
  {
   "cell_type": "markdown",
   "id": "ed863baf",
   "metadata": {},
   "source": [
    "* Velocidad media del vuelo:"
   ]
  },
  {
   "cell_type": "code",
   "execution_count": 31,
   "id": "0843613c",
   "metadata": {},
   "outputs": [],
   "source": [
    "df[\"MeanSpeed\"] = df[\"Distance\"]/df[\"AirTime\"]*60"
   ]
  },
  {
   "cell_type": "markdown",
   "id": "ec25e506",
   "metadata": {},
   "source": [
    "* Estado del vuelo en llegada:\n",
    "    * On time [<15 min] = 0\n",
    "    * Retrasado ]15 min,60 min] = 1\n",
    "    * Muy retrasado [> 60 min] = 2\n",
    "    * Cancelado = 3\n",
    "    * Desviado = 4"
   ]
  },
  {
   "cell_type": "code",
   "execution_count": 32,
   "id": "75b44bdb",
   "metadata": {},
   "outputs": [],
   "source": [
    "df.loc[df[\"ArrDelay\"] <= 15, \"FAstatus\"] = 0\n",
    "df.loc[(df[\"ArrDelay\"] > 15) & (df[\"ArrDelay\"]<= 60), \"FAstatus\"] = 1\n",
    "df.loc[df[\"ArrDelay\"] > 60, \"FAstatus\"] = 2\n",
    "df.loc[df[\"Diverted\"] == 1, \"FAstatus\"] = 3\n",
    "df.loc[df[\"Cancelled\"] == 1, \"FAstatus\"] = 4"
   ]
  },
  {
   "cell_type": "markdown",
   "id": "d9ec7a4a",
   "metadata": {},
   "source": [
    "* Estado de vuelo en salidas:\n",
    "    * On time [<15 min] = 0\n",
    "    * Retrasado ]15 min,60 min] = 1\n",
    "    * Muy retrasado [> 60 min] = 2\n",
    "    * Cancelado = 3\n",
    "    * Desviado = 4"
   ]
  },
  {
   "cell_type": "code",
   "execution_count": 33,
   "id": "2d3b0ba6",
   "metadata": {},
   "outputs": [],
   "source": [
    "df.loc[df[\"DepDelay\"] <= 15, \"FDstatus\"] = 0\n",
    "df.loc[(df[\"DepDelay\"] > 15) & (df[\"ArrDelay\"]<= 60), \"FDstatus\"] = 1\n",
    "df.loc[df[\"DepDelay\"] > 60, \"FDstatus\"] = 2\n",
    "df.loc[df[\"Diverted\"] == 1, \"FDstatus\"] = 3\n",
    "df.loc[df[\"Cancelled\"] == 1, \"FDstatus\"] = 4"
   ]
  },
  {
   "cell_type": "code",
   "execution_count": 34,
   "id": "2fcab3ab",
   "metadata": {},
   "outputs": [
    {
     "data": {
      "text/html": [
       "<div>\n",
       "<style scoped>\n",
       "    .dataframe tbody tr th:only-of-type {\n",
       "        vertical-align: middle;\n",
       "    }\n",
       "\n",
       "    .dataframe tbody tr th {\n",
       "        vertical-align: top;\n",
       "    }\n",
       "\n",
       "    .dataframe thead th {\n",
       "        text-align: right;\n",
       "    }\n",
       "</style>\n",
       "<table border=\"1\" class=\"dataframe\">\n",
       "  <thead>\n",
       "    <tr style=\"text-align: right;\">\n",
       "      <th></th>\n",
       "      <th>Depdate</th>\n",
       "      <th>DayOfWeek</th>\n",
       "      <th>DepTime</th>\n",
       "      <th>CRSDepTime</th>\n",
       "      <th>ArrTime</th>\n",
       "      <th>CRSArrTime</th>\n",
       "      <th>UniqueCarrier</th>\n",
       "      <th>ActualElapsedTime</th>\n",
       "      <th>CRSElapsedTime</th>\n",
       "      <th>AirTime</th>\n",
       "      <th>...</th>\n",
       "      <th>CancellationCode</th>\n",
       "      <th>Diverted</th>\n",
       "      <th>CarrierDelay</th>\n",
       "      <th>WeatherDelay</th>\n",
       "      <th>NASDelay</th>\n",
       "      <th>SecurityDelay</th>\n",
       "      <th>LateAircraftDelay</th>\n",
       "      <th>MeanSpeed</th>\n",
       "      <th>FAstatus</th>\n",
       "      <th>FDstatus</th>\n",
       "    </tr>\n",
       "  </thead>\n",
       "  <tbody>\n",
       "    <tr>\n",
       "      <th>1392048</th>\n",
       "      <td>2008-08-03</td>\n",
       "      <td>7</td>\n",
       "      <td>1033</td>\n",
       "      <td>955</td>\n",
       "      <td>1320</td>\n",
       "      <td>1220</td>\n",
       "      <td>AA</td>\n",
       "      <td>287</td>\n",
       "      <td>265</td>\n",
       "      <td>259</td>\n",
       "      <td>...</td>\n",
       "      <td>N</td>\n",
       "      <td>0</td>\n",
       "      <td>0</td>\n",
       "      <td>38</td>\n",
       "      <td>22</td>\n",
       "      <td>0</td>\n",
       "      <td>0</td>\n",
       "      <td>424</td>\n",
       "      <td>1</td>\n",
       "      <td>1</td>\n",
       "    </tr>\n",
       "    <tr>\n",
       "      <th>1281838</th>\n",
       "      <td>2008-08-17</td>\n",
       "      <td>7</td>\n",
       "      <td>1545</td>\n",
       "      <td>1535</td>\n",
       "      <td>1633</td>\n",
       "      <td>1625</td>\n",
       "      <td>WN</td>\n",
       "      <td>48</td>\n",
       "      <td>50</td>\n",
       "      <td>38</td>\n",
       "      <td>...</td>\n",
       "      <td>N</td>\n",
       "      <td>0</td>\n",
       "      <td>NaN</td>\n",
       "      <td>NaN</td>\n",
       "      <td>NaN</td>\n",
       "      <td>NaN</td>\n",
       "      <td>NaN</td>\n",
       "      <td>303</td>\n",
       "      <td>0</td>\n",
       "      <td>0</td>\n",
       "    </tr>\n",
       "    <tr>\n",
       "      <th>4751</th>\n",
       "      <td>2008-01-05</td>\n",
       "      <td>6</td>\n",
       "      <td>2105</td>\n",
       "      <td>2005</td>\n",
       "      <td>2228</td>\n",
       "      <td>2120</td>\n",
       "      <td>WN</td>\n",
       "      <td>83</td>\n",
       "      <td>75</td>\n",
       "      <td>71</td>\n",
       "      <td>...</td>\n",
       "      <td>N</td>\n",
       "      <td>0</td>\n",
       "      <td>12</td>\n",
       "      <td>0</td>\n",
       "      <td>8</td>\n",
       "      <td>0</td>\n",
       "      <td>48</td>\n",
       "      <td>352</td>\n",
       "      <td>2</td>\n",
       "      <td>NaN</td>\n",
       "    </tr>\n",
       "    <tr>\n",
       "      <th>795373</th>\n",
       "      <td>2008-05-05</td>\n",
       "      <td>1</td>\n",
       "      <td>1759</td>\n",
       "      <td>1745</td>\n",
       "      <td>1904</td>\n",
       "      <td>1857</td>\n",
       "      <td>UA</td>\n",
       "      <td>125</td>\n",
       "      <td>132</td>\n",
       "      <td>110</td>\n",
       "      <td>...</td>\n",
       "      <td>N</td>\n",
       "      <td>0</td>\n",
       "      <td>NaN</td>\n",
       "      <td>NaN</td>\n",
       "      <td>NaN</td>\n",
       "      <td>NaN</td>\n",
       "      <td>NaN</td>\n",
       "      <td>423</td>\n",
       "      <td>0</td>\n",
       "      <td>0</td>\n",
       "    </tr>\n",
       "    <tr>\n",
       "      <th>194142</th>\n",
       "      <td>2008-02-10</td>\n",
       "      <td>7</td>\n",
       "      <td>1251</td>\n",
       "      <td>1245</td>\n",
       "      <td>1449</td>\n",
       "      <td>1440</td>\n",
       "      <td>WN</td>\n",
       "      <td>118</td>\n",
       "      <td>115</td>\n",
       "      <td>93</td>\n",
       "      <td>...</td>\n",
       "      <td>N</td>\n",
       "      <td>0</td>\n",
       "      <td>NaN</td>\n",
       "      <td>NaN</td>\n",
       "      <td>NaN</td>\n",
       "      <td>NaN</td>\n",
       "      <td>NaN</td>\n",
       "      <td>379</td>\n",
       "      <td>0</td>\n",
       "      <td>0</td>\n",
       "    </tr>\n",
       "  </tbody>\n",
       "</table>\n",
       "<p>5 rows × 28 columns</p>\n",
       "</div>"
      ],
      "text/plain": [
       "           Depdate  DayOfWeek  DepTime  CRSDepTime  ArrTime  CRSArrTime  \\\n",
       "1392048 2008-08-03          7     1033         955     1320        1220   \n",
       "1281838 2008-08-17          7     1545        1535     1633        1625   \n",
       "4751    2008-01-05          6     2105        2005     2228        2120   \n",
       "795373  2008-05-05          1     1759        1745     1904        1857   \n",
       "194142  2008-02-10          7     1251        1245     1449        1440   \n",
       "\n",
       "        UniqueCarrier  ActualElapsedTime  CRSElapsedTime  AirTime  ...  \\\n",
       "1392048            AA                287             265      259  ...   \n",
       "1281838            WN                 48              50       38  ...   \n",
       "4751               WN                 83              75       71  ...   \n",
       "795373             UA                125             132      110  ...   \n",
       "194142             WN                118             115       93  ...   \n",
       "\n",
       "         CancellationCode  Diverted CarrierDelay WeatherDelay  NASDelay  \\\n",
       "1392048                 N         0            0           38        22   \n",
       "1281838                 N         0          NaN          NaN       NaN   \n",
       "4751                    N         0           12            0         8   \n",
       "795373                  N         0          NaN          NaN       NaN   \n",
       "194142                  N         0          NaN          NaN       NaN   \n",
       "\n",
       "         SecurityDelay  LateAircraftDelay  MeanSpeed FAstatus  FDstatus  \n",
       "1392048              0                  0        424        1         1  \n",
       "1281838            NaN                NaN        303        0         0  \n",
       "4751                 0                 48        352        2       NaN  \n",
       "795373             NaN                NaN        423        0         0  \n",
       "194142             NaN                NaN        379        0         0  \n",
       "\n",
       "[5 rows x 28 columns]"
      ]
     },
     "execution_count": 34,
     "metadata": {},
     "output_type": "execute_result"
    }
   ],
   "source": [
    "df.head()"
   ]
  },
  {
   "cell_type": "markdown",
   "id": "1db006c2",
   "metadata": {},
   "source": [
    "#### 4. Tabla con las aerolíneas con mas retrasos acumulados."
   ]
  },
  {
   "cell_type": "markdown",
   "id": "46c07dda",
   "metadata": {},
   "source": [
    "- Primero lo haré teniendo en cuenta todos los tiempos de rertaso:"
   ]
  },
  {
   "cell_type": "code",
   "execution_count": 35,
   "id": "f306aeb8",
   "metadata": {},
   "outputs": [
    {
     "data": {
      "text/plain": [
       "UniqueCarrier\n",
       "WN   1179167\n",
       "AA    921247\n",
       "UA    702995\n",
       "MQ    666228\n",
       "OO    619385\n",
       "XE    547243\n",
       "DL    460152\n",
       "CO    406245\n",
       "EV    392468\n",
       "YV    389015\n",
       "US    370825\n",
       "NW    359118\n",
       "FL    325716\n",
       "B6    305102\n",
       "OH    271725\n",
       "9E    248861\n",
       "AS    151952\n",
       "F9     79375\n",
       "HA     25073\n",
       "AQ      1722\n",
       "Name: ArrDelay, dtype: float64"
      ]
     },
     "execution_count": 35,
     "metadata": {},
     "output_type": "execute_result"
    }
   ],
   "source": [
    "Aer_retr = df.groupby(\"UniqueCarrier\")[\"ArrDelay\"].sum().sort_values(ascending=False)  # Agrupo las aerolíneas y en ArrDelay sumo los retrasos d cada una\n",
    "Aer_retr"
   ]
  },
  {
   "cell_type": "markdown",
   "id": "03049042",
   "metadata": {},
   "source": [
    "- Ahora lo haré teniendo en cuenta el criterio de las Aerolíneas, es decir, no contando los retrasos inferiores a 15 min, utilizando la columna FAStatus:"
   ]
  },
  {
   "cell_type": "code",
   "execution_count": 36,
   "id": "04c92eae",
   "metadata": {},
   "outputs": [
    {
     "data": {
      "text/plain": [
       "UniqueCarrier\n",
       "WN   1105515\n",
       "AA    896055\n",
       "UA    689237\n",
       "MQ    640569\n",
       "OO    593379\n",
       "XE    532483\n",
       "DL    442864\n",
       "CO    397389\n",
       "EV    378580\n",
       "YV    377220\n",
       "US    361729\n",
       "NW    346212\n",
       "FL    311545\n",
       "B6    301816\n",
       "OH    264319\n",
       "9E    240872\n",
       "AS    145245\n",
       "F9     71306\n",
       "HA     22591\n",
       "AQ      1503\n",
       "Name: ArrDelay, dtype: float64"
      ]
     },
     "execution_count": 36,
     "metadata": {},
     "output_type": "execute_result"
    }
   ],
   "source": [
    "Aer_retr15 = df[(df[\"FAstatus\"] == 1) | (df[\"FAstatus\"]==2)].groupby(\"UniqueCarrier\")[\"ArrDelay\"].sum().sort_values(ascending=False)\n",
    "Aer_retr15"
   ]
  },
  {
   "cell_type": "markdown",
   "id": "68a644ce",
   "metadata": {},
   "source": [
    "Las graficamos:"
   ]
  },
  {
   "cell_type": "code",
   "execution_count": 37,
   "id": "806ee83e",
   "metadata": {},
   "outputs": [
    {
     "data": {
      "image/png": "[encoded data removed]",
      "text/plain": [
       "<Figure size 1080x360 with 1 Axes>"
      ]
     },
     "metadata": {
      "needs_background": "light"
     },
     "output_type": "display_data"
    }
   ],
   "source": [
    "fig, ax = plt.subplots(figsize=(15, 5))   # Creo la figura y la venana de los ejes\n",
    "x = Aer_retr.index                        # Defino los datos que voy a usar\n",
    "y1 = Aer_retr.values\n",
    "y2 = Aer_retr15.values\n",
    "ax.bar(x,y1, label = \"Aer_retr\")          # Quiero usar el grafico de barras una encima de la otra y defino la leyenda\n",
    "ax.bar(x,y2, label = \"Aer_retr15\")\n",
    "ax.set_title(\"Ranking de retrasos por compañía\")  # Titulo del gráfico\n",
    "ax.set_xlabel(\"Compañía\")                         # Etiqueta dell eje x\n",
    "ax.set_ylabel(\"Retraso\")                          # Etiqueta del eje Y\n",
    "ax.legend()                                       # Agraegamos la leyendade los datos \n",
    "plt.show()"
   ]
  },
  {
   "cell_type": "markdown",
   "id": "1a404ec2",
   "metadata": {},
   "source": [
    "#### 5. ¿Cuales son los vuelos mas largos? ¿Y los mas retrasodos? Buscar las rutas mas largas y las que acumulan mas retraso."
   ]
  },
  {
   "cell_type": "markdown",
   "id": "29952589",
   "metadata": {},
   "source": [
    "Los vuelos mas largos son:"
   ]
  },
  {
   "cell_type": "code",
   "execution_count": 38,
   "id": "f5902753",
   "metadata": {},
   "outputs": [
    {
     "data": {
      "text/html": [
       "<div>\n",
       "<style scoped>\n",
       "    .dataframe tbody tr th:only-of-type {\n",
       "        vertical-align: middle;\n",
       "    }\n",
       "\n",
       "    .dataframe tbody tr th {\n",
       "        vertical-align: top;\n",
       "    }\n",
       "\n",
       "    .dataframe thead th {\n",
       "        text-align: right;\n",
       "    }\n",
       "</style>\n",
       "<table border=\"1\" class=\"dataframe\">\n",
       "  <thead>\n",
       "    <tr style=\"text-align: right;\">\n",
       "      <th></th>\n",
       "      <th>Depdate</th>\n",
       "      <th>DayOfWeek</th>\n",
       "      <th>DepTime</th>\n",
       "      <th>CRSDepTime</th>\n",
       "      <th>ArrTime</th>\n",
       "      <th>CRSArrTime</th>\n",
       "      <th>UniqueCarrier</th>\n",
       "      <th>ActualElapsedTime</th>\n",
       "      <th>CRSElapsedTime</th>\n",
       "      <th>AirTime</th>\n",
       "      <th>...</th>\n",
       "      <th>CancellationCode</th>\n",
       "      <th>Diverted</th>\n",
       "      <th>CarrierDelay</th>\n",
       "      <th>WeatherDelay</th>\n",
       "      <th>NASDelay</th>\n",
       "      <th>SecurityDelay</th>\n",
       "      <th>LateAircraftDelay</th>\n",
       "      <th>MeanSpeed</th>\n",
       "      <th>FAstatus</th>\n",
       "      <th>FDstatus</th>\n",
       "    </tr>\n",
       "  </thead>\n",
       "  <tbody>\n",
       "    <tr>\n",
       "      <th>362681</th>\n",
       "      <td>2008-02-17</td>\n",
       "      <td>7</td>\n",
       "      <td>1326</td>\n",
       "      <td>1320</td>\n",
       "      <td>1851</td>\n",
       "      <td>1920</td>\n",
       "      <td>CO</td>\n",
       "      <td>625</td>\n",
       "      <td>660</td>\n",
       "      <td>589</td>\n",
       "      <td>...</td>\n",
       "      <td>N</td>\n",
       "      <td>0</td>\n",
       "      <td>NaN</td>\n",
       "      <td>NaN</td>\n",
       "      <td>NaN</td>\n",
       "      <td>NaN</td>\n",
       "      <td>NaN</td>\n",
       "      <td>505</td>\n",
       "      <td>0</td>\n",
       "      <td>0</td>\n",
       "    </tr>\n",
       "    <tr>\n",
       "      <th>718648</th>\n",
       "      <td>2008-04-08</td>\n",
       "      <td>2</td>\n",
       "      <td>2003</td>\n",
       "      <td>1955</td>\n",
       "      <td>1135</td>\n",
       "      <td>1130</td>\n",
       "      <td>CO</td>\n",
       "      <td>572</td>\n",
       "      <td>575</td>\n",
       "      <td>544</td>\n",
       "      <td>...</td>\n",
       "      <td>N</td>\n",
       "      <td>0</td>\n",
       "      <td>NaN</td>\n",
       "      <td>NaN</td>\n",
       "      <td>NaN</td>\n",
       "      <td>NaN</td>\n",
       "      <td>NaN</td>\n",
       "      <td>547</td>\n",
       "      <td>0</td>\n",
       "      <td>0</td>\n",
       "    </tr>\n",
       "    <tr>\n",
       "      <th>1930729</th>\n",
       "      <td>2008-12-07</td>\n",
       "      <td>7</td>\n",
       "      <td>1435</td>\n",
       "      <td>1335</td>\n",
       "      <td>2012</td>\n",
       "      <td>1935</td>\n",
       "      <td>CO</td>\n",
       "      <td>637</td>\n",
       "      <td>660</td>\n",
       "      <td>610</td>\n",
       "      <td>...</td>\n",
       "      <td>N</td>\n",
       "      <td>0</td>\n",
       "      <td>0</td>\n",
       "      <td>0</td>\n",
       "      <td>0</td>\n",
       "      <td>0</td>\n",
       "      <td>37</td>\n",
       "      <td>488</td>\n",
       "      <td>1</td>\n",
       "      <td>1</td>\n",
       "    </tr>\n",
       "    <tr>\n",
       "      <th>1931031</th>\n",
       "      <td>2008-12-05</td>\n",
       "      <td>5</td>\n",
       "      <td>1428</td>\n",
       "      <td>1335</td>\n",
       "      <td>1937</td>\n",
       "      <td>1935</td>\n",
       "      <td>CO</td>\n",
       "      <td>609</td>\n",
       "      <td>660</td>\n",
       "      <td>591</td>\n",
       "      <td>...</td>\n",
       "      <td>N</td>\n",
       "      <td>0</td>\n",
       "      <td>NaN</td>\n",
       "      <td>NaN</td>\n",
       "      <td>NaN</td>\n",
       "      <td>NaN</td>\n",
       "      <td>NaN</td>\n",
       "      <td>504</td>\n",
       "      <td>0</td>\n",
       "      <td>1</td>\n",
       "    </tr>\n",
       "    <tr>\n",
       "      <th>1928363</th>\n",
       "      <td>2008-12-15</td>\n",
       "      <td>1</td>\n",
       "      <td>1401</td>\n",
       "      <td>1335</td>\n",
       "      <td>1950</td>\n",
       "      <td>1935</td>\n",
       "      <td>CO</td>\n",
       "      <td>649</td>\n",
       "      <td>660</td>\n",
       "      <td>619</td>\n",
       "      <td>...</td>\n",
       "      <td>N</td>\n",
       "      <td>0</td>\n",
       "      <td>15</td>\n",
       "      <td>0</td>\n",
       "      <td>0</td>\n",
       "      <td>0</td>\n",
       "      <td>0</td>\n",
       "      <td>481</td>\n",
       "      <td>0</td>\n",
       "      <td>1</td>\n",
       "    </tr>\n",
       "    <tr>\n",
       "      <th>...</th>\n",
       "      <td>...</td>\n",
       "      <td>...</td>\n",
       "      <td>...</td>\n",
       "      <td>...</td>\n",
       "      <td>...</td>\n",
       "      <td>...</td>\n",
       "      <td>...</td>\n",
       "      <td>...</td>\n",
       "      <td>...</td>\n",
       "      <td>...</td>\n",
       "      <td>...</td>\n",
       "      <td>...</td>\n",
       "      <td>...</td>\n",
       "      <td>...</td>\n",
       "      <td>...</td>\n",
       "      <td>...</td>\n",
       "      <td>...</td>\n",
       "      <td>...</td>\n",
       "      <td>...</td>\n",
       "      <td>...</td>\n",
       "      <td>...</td>\n",
       "    </tr>\n",
       "    <tr>\n",
       "      <th>164500</th>\n",
       "      <td>2008-01-01</td>\n",
       "      <td>2</td>\n",
       "      <td>1549</td>\n",
       "      <td>1537</td>\n",
       "      <td>1619</td>\n",
       "      <td>1605</td>\n",
       "      <td>AS</td>\n",
       "      <td>30</td>\n",
       "      <td>28</td>\n",
       "      <td>19</td>\n",
       "      <td>...</td>\n",
       "      <td>N</td>\n",
       "      <td>0</td>\n",
       "      <td>NaN</td>\n",
       "      <td>NaN</td>\n",
       "      <td>NaN</td>\n",
       "      <td>NaN</td>\n",
       "      <td>NaN</td>\n",
       "      <td>98</td>\n",
       "      <td>0</td>\n",
       "      <td>0</td>\n",
       "    </tr>\n",
       "    <tr>\n",
       "      <th>1405531</th>\n",
       "      <td>2008-08-21</td>\n",
       "      <td>4</td>\n",
       "      <td>1840</td>\n",
       "      <td>1737</td>\n",
       "      <td>1909</td>\n",
       "      <td>1801</td>\n",
       "      <td>AS</td>\n",
       "      <td>29</td>\n",
       "      <td>24</td>\n",
       "      <td>12</td>\n",
       "      <td>...</td>\n",
       "      <td>N</td>\n",
       "      <td>0</td>\n",
       "      <td>0</td>\n",
       "      <td>0</td>\n",
       "      <td>8</td>\n",
       "      <td>0</td>\n",
       "      <td>60</td>\n",
       "      <td>155</td>\n",
       "      <td>2</td>\n",
       "      <td>2</td>\n",
       "    </tr>\n",
       "    <tr>\n",
       "      <th>355171</th>\n",
       "      <td>2008-02-29</td>\n",
       "      <td>5</td>\n",
       "      <td>1543</td>\n",
       "      <td>1537</td>\n",
       "      <td>1611</td>\n",
       "      <td>1605</td>\n",
       "      <td>AS</td>\n",
       "      <td>28</td>\n",
       "      <td>28</td>\n",
       "      <td>20</td>\n",
       "      <td>...</td>\n",
       "      <td>N</td>\n",
       "      <td>0</td>\n",
       "      <td>NaN</td>\n",
       "      <td>NaN</td>\n",
       "      <td>NaN</td>\n",
       "      <td>NaN</td>\n",
       "      <td>NaN</td>\n",
       "      <td>93</td>\n",
       "      <td>0</td>\n",
       "      <td>0</td>\n",
       "    </tr>\n",
       "    <tr>\n",
       "      <th>352844</th>\n",
       "      <td>2008-02-07</td>\n",
       "      <td>4</td>\n",
       "      <td>1125</td>\n",
       "      <td>1013</td>\n",
       "      <td>1146</td>\n",
       "      <td>1040</td>\n",
       "      <td>AS</td>\n",
       "      <td>21</td>\n",
       "      <td>27</td>\n",
       "      <td>10</td>\n",
       "      <td>...</td>\n",
       "      <td>N</td>\n",
       "      <td>0</td>\n",
       "      <td>0</td>\n",
       "      <td>0</td>\n",
       "      <td>19</td>\n",
       "      <td>0</td>\n",
       "      <td>47</td>\n",
       "      <td>186</td>\n",
       "      <td>2</td>\n",
       "      <td>2</td>\n",
       "    </tr>\n",
       "    <tr>\n",
       "      <th>169785</th>\n",
       "      <td>2008-01-08</td>\n",
       "      <td>2</td>\n",
       "      <td>816</td>\n",
       "      <td>805</td>\n",
       "      <td>907</td>\n",
       "      <td>855</td>\n",
       "      <td>B6</td>\n",
       "      <td>51</td>\n",
       "      <td>50</td>\n",
       "      <td>19</td>\n",
       "      <td>...</td>\n",
       "      <td>N</td>\n",
       "      <td>0</td>\n",
       "      <td>NaN</td>\n",
       "      <td>NaN</td>\n",
       "      <td>NaN</td>\n",
       "      <td>NaN</td>\n",
       "      <td>NaN</td>\n",
       "      <td>95</td>\n",
       "      <td>0</td>\n",
       "      <td>0</td>\n",
       "    </tr>\n",
       "  </tbody>\n",
       "</table>\n",
       "<p>200000 rows × 28 columns</p>\n",
       "</div>"
      ],
      "text/plain": [
       "           Depdate  DayOfWeek  DepTime  CRSDepTime  ArrTime  CRSArrTime  \\\n",
       "362681  2008-02-17          7     1326        1320     1851        1920   \n",
       "718648  2008-04-08          2     2003        1955     1135        1130   \n",
       "1930729 2008-12-07          7     1435        1335     2012        1935   \n",
       "1931031 2008-12-05          5     1428        1335     1937        1935   \n",
       "1928363 2008-12-15          1     1401        1335     1950        1935   \n",
       "...            ...        ...      ...         ...      ...         ...   \n",
       "164500  2008-01-01          2     1549        1537     1619        1605   \n",
       "1405531 2008-08-21          4     1840        1737     1909        1801   \n",
       "355171  2008-02-29          5     1543        1537     1611        1605   \n",
       "352844  2008-02-07          4     1125        1013     1146        1040   \n",
       "169785  2008-01-08          2      816         805      907         855   \n",
       "\n",
       "        UniqueCarrier  ActualElapsedTime  CRSElapsedTime  AirTime  ...  \\\n",
       "362681             CO                625             660      589  ...   \n",
       "718648             CO                572             575      544  ...   \n",
       "1930729            CO                637             660      610  ...   \n",
       "1931031            CO                609             660      591  ...   \n",
       "1928363            CO                649             660      619  ...   \n",
       "...               ...                ...             ...      ...  ...   \n",
       "164500             AS                 30              28       19  ...   \n",
       "1405531            AS                 29              24       12  ...   \n",
       "355171             AS                 28              28       20  ...   \n",
       "352844             AS                 21              27       10  ...   \n",
       "169785             B6                 51              50       19  ...   \n",
       "\n",
       "         CancellationCode  Diverted CarrierDelay WeatherDelay  NASDelay  \\\n",
       "362681                  N         0          NaN          NaN       NaN   \n",
       "718648                  N         0          NaN          NaN       NaN   \n",
       "1930729                 N         0            0            0         0   \n",
       "1931031                 N         0          NaN          NaN       NaN   \n",
       "1928363                 N         0           15            0         0   \n",
       "...                   ...       ...          ...          ...       ...   \n",
       "164500                  N         0          NaN          NaN       NaN   \n",
       "1405531                 N         0            0            0         8   \n",
       "355171                  N         0          NaN          NaN       NaN   \n",
       "352844                  N         0            0            0        19   \n",
       "169785                  N         0          NaN          NaN       NaN   \n",
       "\n",
       "         SecurityDelay  LateAircraftDelay  MeanSpeed FAstatus  FDstatus  \n",
       "362681             NaN                NaN        505        0         0  \n",
       "718648             NaN                NaN        547        0         0  \n",
       "1930729              0                 37        488        1         1  \n",
       "1931031            NaN                NaN        504        0         1  \n",
       "1928363              0                  0        481        0         1  \n",
       "...                ...                ...        ...      ...       ...  \n",
       "164500             NaN                NaN         98        0         0  \n",
       "1405531              0                 60        155        2         2  \n",
       "355171             NaN                NaN         93        0         0  \n",
       "352844               0                 47        186        2         2  \n",
       "169785             NaN                NaN         95        0         0  \n",
       "\n",
       "[200000 rows x 28 columns]"
      ]
     },
     "execution_count": 38,
     "metadata": {},
     "output_type": "execute_result"
    }
   ],
   "source": [
    "df_sorted = df.sort_values(by='Distance', ascending=False)\n",
    "df_sorted"
   ]
  },
  {
   "cell_type": "code",
   "execution_count": 39,
   "id": "10818b17",
   "metadata": {
    "scrolled": true
   },
   "outputs": [
    {
     "data": {
      "text/plain": [
       "UniqueCarrier\n",
       "CO    4962\n",
       "DL    4502\n",
       "AA    4243\n",
       "UA    4243\n",
       "NW    3972\n",
       "US    2979\n",
       "HA    2917\n",
       "AS    2846\n",
       "B6    2704\n",
       "AQ    2677\n",
       "F9    2406\n",
       "WN    2363\n",
       "FL    2335\n",
       "OO    1659\n",
       "9E    1638\n",
       "OH    1522\n",
       "XE    1463\n",
       "MQ    1371\n",
       "YV    1362\n",
       "EV    1134\n",
       "Name: Distance, dtype: int64"
      ]
     },
     "execution_count": 39,
     "metadata": {},
     "output_type": "execute_result"
    }
   ],
   "source": [
    "Lflights = df.groupby(\"UniqueCarrier\")[\"Distance\"].max().sort_values(ascending=False)\n",
    "Lflights"
   ]
  },
  {
   "cell_type": "markdown",
   "id": "283cb187",
   "metadata": {},
   "source": [
    "Los mas retrasados:"
   ]
  },
  {
   "cell_type": "code",
   "execution_count": 40,
   "id": "542e9379",
   "metadata": {},
   "outputs": [
    {
     "data": {
      "text/plain": [
       "UniqueCarrier\n",
       "NW   1382\n",
       "UA   1322\n",
       "AA   1142\n",
       "9E   1091\n",
       "MQ   1043\n",
       "OH    955\n",
       "B6    834\n",
       "EV    764\n",
       "XE    732\n",
       "AS    672\n",
       "FL    661\n",
       "WN    633\n",
       "DL    621\n",
       "US    611\n",
       "OO    587\n",
       "CO    576\n",
       "HA    573\n",
       "F9    570\n",
       "YV    517\n",
       "AQ    176\n",
       "Name: ArrDelay, dtype: float64"
      ]
     },
     "execution_count": 40,
     "metadata": {},
     "output_type": "execute_result"
    }
   ],
   "source": [
    "Dflights = df.groupby(\"UniqueCarrier\")[\"ArrDelay\"].max().sort_values(ascending=False)\n",
    "Dflights"
   ]
  },
  {
   "cell_type": "markdown",
   "id": "5d805713",
   "metadata": {},
   "source": [
    "Veamos cuan correladas estan:"
   ]
  },
  {
   "cell_type": "code",
   "execution_count": 41,
   "id": "0cd2fc45",
   "metadata": {},
   "outputs": [
    {
     "data": {
      "text/plain": [
       "0.1829127125278151"
      ]
     },
     "execution_count": 41,
     "metadata": {},
     "output_type": "execute_result"
    }
   ],
   "source": [
    "correlation = Lflights.corr(Dflights)\n",
    "correlation"
   ]
  },
  {
   "cell_type": "markdown",
   "id": "9ab6e503",
   "metadata": {},
   "source": [
    "Lo que quier decir que la correlación entre ambas es baja, es decir, no hay una realción clara causa-efecto entre vuelos largos y cortos.\n",
    "\n",
    "Vamos a ver si en cambio contando con los retrasos acumulados a lo largo del año hay alguna correlación con las distancias recorrida:"
   ]
  },
  {
   "cell_type": "code",
   "execution_count": 42,
   "id": "3a660255",
   "metadata": {},
   "outputs": [
    {
     "data": {
      "text/plain": [
       "0.875143581349386"
      ]
     },
     "execution_count": 42,
     "metadata": {},
     "output_type": "execute_result"
    }
   ],
   "source": [
    "Lflights_acum = df.groupby(\"UniqueCarrier\")[\"Distance\"].sum()\n",
    "Dflights_acum = df.groupby(\"UniqueCarrier\")[\"ArrDelay\"].sum()\n",
    "correlation = Lflights_acum.corr(Dflights_acum)\n",
    "correlation"
   ]
  },
  {
   "cell_type": "markdown",
   "id": "a688f095",
   "metadata": {},
   "source": [
    "Observamos un comportamiento muy distinto donde a lo largo del año, acumulando los retrasos y distancias, la correlación es alta.\n",
    "Grafiquemoslos:"
   ]
  },
  {
   "cell_type": "code",
   "execution_count": 43,
   "id": "35d82204",
   "metadata": {},
   "outputs": [
    {
     "data": {
      "image/png": "[encoded data removed]",
      "text/plain": [
       "<Figure size 432x288 with 1 Axes>"
      ]
     },
     "metadata": {
      "needs_background": "light"
     },
     "output_type": "display_data"
    }
   ],
   "source": [
    "plt.scatter(Lflights_acum, Dflights_acum)\n",
    "plt.xlabel(\"Total acumulado de distancias\")\n",
    "plt.ylabel(\"Total acumulado de retrasos de llegada\")\n",
    "plt.title(\"Relación entre distancias y retrasos acumulados por compañía aérea\")\n",
    "plt.show()"
   ]
  },
  {
   "cell_type": "markdown",
   "id": "83257513",
   "metadata": {},
   "source": [
    "Voy a hacer una tabla con las dos listas para entender mejor los valores:"
   ]
  },
  {
   "cell_type": "code",
   "execution_count": 44,
   "id": "bfb78a6f",
   "metadata": {},
   "outputs": [
    {
     "data": {
      "text/html": [
       "<div>\n",
       "<style scoped>\n",
       "    .dataframe tbody tr th:only-of-type {\n",
       "        vertical-align: middle;\n",
       "    }\n",
       "\n",
       "    .dataframe tbody tr th {\n",
       "        vertical-align: top;\n",
       "    }\n",
       "\n",
       "    .dataframe thead th {\n",
       "        text-align: right;\n",
       "    }\n",
       "</style>\n",
       "<table border=\"1\" class=\"dataframe\">\n",
       "  <thead>\n",
       "    <tr style=\"text-align: right;\">\n",
       "      <th></th>\n",
       "      <th>Distance</th>\n",
       "      <th>ArrDelay</th>\n",
       "    </tr>\n",
       "    <tr>\n",
       "      <th>UniqueCarrier</th>\n",
       "      <th></th>\n",
       "      <th></th>\n",
       "    </tr>\n",
       "  </thead>\n",
       "  <tbody>\n",
       "    <tr>\n",
       "      <th>WN</th>\n",
       "      <td>25303774</td>\n",
       "      <td>1179167</td>\n",
       "    </tr>\n",
       "    <tr>\n",
       "      <th>AA</th>\n",
       "      <td>21290010</td>\n",
       "      <td>921247</td>\n",
       "    </tr>\n",
       "    <tr>\n",
       "      <th>UA</th>\n",
       "      <td>15878587</td>\n",
       "      <td>702995</td>\n",
       "    </tr>\n",
       "    <tr>\n",
       "      <th>CO</th>\n",
       "      <td>12853690</td>\n",
       "      <td>406245</td>\n",
       "    </tr>\n",
       "    <tr>\n",
       "      <th>DL</th>\n",
       "      <td>11259327</td>\n",
       "      <td>460152</td>\n",
       "    </tr>\n",
       "    <tr>\n",
       "      <th>US</th>\n",
       "      <td>9852893</td>\n",
       "      <td>370825</td>\n",
       "    </tr>\n",
       "    <tr>\n",
       "      <th>NW</th>\n",
       "      <td>6727623</td>\n",
       "      <td>359118</td>\n",
       "    </tr>\n",
       "    <tr>\n",
       "      <th>XE</th>\n",
       "      <td>6426035</td>\n",
       "      <td>547243</td>\n",
       "    </tr>\n",
       "    <tr>\n",
       "      <th>MQ</th>\n",
       "      <td>6363440</td>\n",
       "      <td>666228</td>\n",
       "    </tr>\n",
       "    <tr>\n",
       "      <th>B6</th>\n",
       "      <td>6159504</td>\n",
       "      <td>305102</td>\n",
       "    </tr>\n",
       "    <tr>\n",
       "      <th>OO</th>\n",
       "      <td>6001704</td>\n",
       "      <td>619385</td>\n",
       "    </tr>\n",
       "    <tr>\n",
       "      <th>FL</th>\n",
       "      <td>5480537</td>\n",
       "      <td>325716</td>\n",
       "    </tr>\n",
       "    <tr>\n",
       "      <th>EV</th>\n",
       "      <td>3950367</td>\n",
       "      <td>392468</td>\n",
       "    </tr>\n",
       "    <tr>\n",
       "      <th>AS</th>\n",
       "      <td>3925935</td>\n",
       "      <td>151952</td>\n",
       "    </tr>\n",
       "    <tr>\n",
       "      <th>YV</th>\n",
       "      <td>2873213</td>\n",
       "      <td>389015</td>\n",
       "    </tr>\n",
       "    <tr>\n",
       "      <th>OH</th>\n",
       "      <td>2775346</td>\n",
       "      <td>271725</td>\n",
       "    </tr>\n",
       "    <tr>\n",
       "      <th>F9</th>\n",
       "      <td>2627200</td>\n",
       "      <td>79375</td>\n",
       "    </tr>\n",
       "    <tr>\n",
       "      <th>9E</th>\n",
       "      <td>2435643</td>\n",
       "      <td>248861</td>\n",
       "    </tr>\n",
       "    <tr>\n",
       "      <th>HA</th>\n",
       "      <td>674136</td>\n",
       "      <td>25073</td>\n",
       "    </tr>\n",
       "    <tr>\n",
       "      <th>AQ</th>\n",
       "      <td>72932</td>\n",
       "      <td>1722</td>\n",
       "    </tr>\n",
       "  </tbody>\n",
       "</table>\n",
       "</div>"
      ],
      "text/plain": [
       "               Distance  ArrDelay\n",
       "UniqueCarrier                    \n",
       "WN             25303774   1179167\n",
       "AA             21290010    921247\n",
       "UA             15878587    702995\n",
       "CO             12853690    406245\n",
       "DL             11259327    460152\n",
       "US              9852893    370825\n",
       "NW              6727623    359118\n",
       "XE              6426035    547243\n",
       "MQ              6363440    666228\n",
       "B6              6159504    305102\n",
       "OO              6001704    619385\n",
       "FL              5480537    325716\n",
       "EV              3950367    392468\n",
       "AS              3925935    151952\n",
       "YV              2873213    389015\n",
       "OH              2775346    271725\n",
       "F9              2627200     79375\n",
       "9E              2435643    248861\n",
       "HA               674136     25073\n",
       "AQ                72932      1722"
      ]
     },
     "execution_count": 44,
     "metadata": {},
     "output_type": "execute_result"
    }
   ],
   "source": [
    "Lflights_acum = df.groupby(\"UniqueCarrier\")[\"Distance\"].sum().sort_values(ascending=False)  #Quiero ordenar la tabla por distnacia\n",
    "Dflights_acum = df.groupby(\"UniqueCarrier\")[\"ArrDelay\"].sum()\n",
    "tabla = pd.concat([Lflights_acum, Dflights_acum], axis=1)\n",
    "tabla = tabla.sort_values(by=\"Distance\", ascending=False)\n",
    "tabla"
   ]
  },
  {
   "cell_type": "markdown",
   "id": "aba04353",
   "metadata": {},
   "source": [
    "Observamos que en vuelos de corta distancia se acumulan muchos retrasos de valores mas pequeños, especialemente aquellos que se mueven en distancias acumuladas de 2.4M millas 6.8M millas, mientras que en largas dsntacias la realación distancia y retraso es mas lineas aunque los retrasos acumulados son mucho mayores."
   ]
  },
  {
   "cell_type": "markdown",
   "id": "a91365c3",
   "metadata": {},
   "source": [
    "#### 6. Haré ahora unálisis contestando a las preguntas que listé anteriormente:"
   ]
  },
  {
   "cell_type": "markdown",
   "id": "f8497a4f",
   "metadata": {},
   "source": [
    "Estas son:\n",
    "a) Genéricas:\n",
    "- ¿Cuantos datos faltantes hay por columna?  **(ya evaluado)**\n",
    "- Columnas nuevas: ¿Cual es la velocidad media del vuelo? ¿Llega tarde o no?  **(ya evaluado)**\n",
    "\n",
    "b) Retrasos:\n",
    "- ¿Cuales son los meses con mas retrasos?\n",
    "- ¿Cuales son los dias de las semanas con mas retrasos?\n",
    "- ¿Tabla de las aerolineas con mas retrasos acumulados?  **(ya evaluado)**\n",
    "- ¿Cuales son los aeropuertos con mas retrasos?  **(ya evaluado)**\n",
    "- ¿Cuales son las rutas mas largas?, ¿Cuales son las que acumulan mas retrasos las largas o las cortas?  **(ya evaluado)**\n",
    "- ¿Los retrasos en la salida estan asociados a los retrasos en llegada, o son recuperados?\n",
    "- ¿Cual es la distribución porcentual de cancelaciones, retrasos y desvios del total de vuelos?\n",
    "- ¿Cuales son las horas con mas retrasos?\n",
    "\n",
    "c) Cancelaciones:\n",
    "- ¿Cuales son los meses con mas cancelaciones?\n",
    "- ¿Cuales son los dias de las semanas con más cancelaciones?\n",
    "- ¿A qué horas hay más cancelaciones?\n",
    "- ¿Cuales se cancelan mas, los de larga o corta distancia?\n",
    "- ¿A partir de cuanto tiempo de taxiOut hay alta probabilidad de que cancelen el despegue?\n",
    "- ¿Cual es la distribución de las causas de cancelaciones?\n",
    "\n",
    "d) Desvios:\n",
    "- ¿De los vuelos retrasados cuantos son desviados?"
   ]
  },
  {
   "cell_type": "markdown",
   "id": "3db0cd6f",
   "metadata": {},
   "source": [
    "##### - ¿Cual es la distribución % entre retrasos, Cancelaciones y desvios?"
   ]
  },
  {
   "cell_type": "markdown",
   "id": "bd98f85c",
   "metadata": {},
   "source": [
    "Primero veamos el & entre retrasoados y no retrasados (contando todos los retrasos o solo los de mas de 15 min):   "
   ]
  },
  {
   "cell_type": "code",
   "execution_count": 45,
   "id": "0e33a3d7",
   "metadata": {},
   "outputs": [
    {
     "data": {
      "image/png": "[encoded data removed]",
      "text/plain": [
       "<Figure size 1080x576 with 2 Axes>"
      ]
     },
     "metadata": {},
     "output_type": "display_data"
    }
   ],
   "source": [
    "Vuelos_no_ret = df[df[\"ArrDelay\"] <= 0] # Filtro los vuelos no retrasados (con ArrDelay <= 0) y retrasados (con ArrDelay > 0)\n",
    "vuelos_ret = df[df[\"ArrDelay\"] > 0]\n",
    "num_vuelos_no_ret = len(Vuelos_no_ret) # Calculo el total de vuelos de cada uno\n",
    "num_vuelos_ret = len(vuelos_ret)\n",
    "porcentaje_no_ret = num_vuelos_no_ret / len(df[\"ArrDelay\"]) * 100\n",
    "porcentaje_ret = num_vuelos_ret / len(df[\"ArrDelay\"]) * 100\n",
    "#hago lo mismo con la cosnideracion de los vuelos que sond e menso de 15 min de retraso no cuentan como retrasados\n",
    "Vuelos_no_ret15 = df[df[\"ArrDelay\"] <= 15]\n",
    "vuelos_ret15 = df[df[\"ArrDelay\"] > 15]\n",
    "num_vuelos_no_ret15 = len(Vuelos_no_ret15) \n",
    "num_vuelos_ret15 = len(vuelos_ret15)\n",
    "porcentaje_no_ret15 = num_vuelos_no_ret15 / len(df[\"ArrDelay\"]) * 100\n",
    "porcentaje_ret15 = num_vuelos_ret15 / len(df[\"ArrDelay\"]) * 100\n",
    "\n",
    "# Creo dos graficos de quesitos, uno para los retrasos efectivos y otro segun el creiterio de las aerolíneas\n",
    "fig, (ax1, ax2) = plt.subplots(ncols=2, figsize=(15,8))\n",
    "ax1.set_title(\"% Retrasos >0 del total de vuelos\")\n",
    "ax1.pie([porcentaje_no_ret, porcentaje_ret], labels=['No retrasados', 'Retrasados'], autopct='%1.1f%%')\n",
    "ax2.set_title(\"% Retrasos >15 min del total de vuelos\")\n",
    "ax2.pie([porcentaje_no_ret15, porcentaje_ret15], labels=['No retrasados', 'Retrasados'], autopct='%1.1f%%')\n",
    "plt.show()"
   ]
  },
  {
   "cell_type": "markdown",
   "id": "735a7e44",
   "metadata": {},
   "source": [
    "Como podemos ver, claramente las aerolíneas les interesa que no cuenten como retraso los primeros 15 min."
   ]
  },
  {
   "cell_type": "markdown",
   "id": "fd1d3511",
   "metadata": {},
   "source": [
    "Veamos ahora la distribución porcentual de los retrasos, desviaciones y cancelaciones:"
   ]
  },
  {
   "cell_type": "markdown",
   "id": "639538f3",
   "metadata": {},
   "source": [
    "Voy a utilizar la división de retrasos que cree para verlos con mas detalles, y lo dibujo en fomra de piechart y de columnas porque sino los de FAstatus 3 y 4 no se ven. Tendré en cunta los retrasos en llegadas pues ya hemos visto que no hay grand iferncia con salidas."
   ]
  },
  {
   "cell_type": "code",
   "execution_count": 46,
   "id": "118fd0e6",
   "metadata": {},
   "outputs": [
    {
     "data": {
      "image/png": "[encoded data removed]",
      "text/plain": [
       "<Figure size 1080x360 with 2 Axes>"
      ]
     },
     "metadata": {
      "needs_background": "light"
     },
     "output_type": "display_data"
    }
   ],
   "source": [
    "fig, (ax1, ax2) = plt.subplots(ncols=2, figsize=(15, 5)) \n",
    "counts = df[\"FAstatus\"].value_counts()\n",
    "total = counts.sum()\n",
    "porcientos = counts / total * 100\n",
    "ax1.set_title(\"Porcentajes de cada tipo\")                                 \n",
    "ax1.pie(porcientos, labels = [\"<15 min\", \"15-60 min\", \">60 min\", \"Desviados\", \"Cancelados\"], autopct='%1.1f%%')                             \n",
    "ax2.set_title(\"Porcentajes de cada tipo\")       \n",
    "ax2.bar([\"<15 min\", \"15-60 min\", \">60 min\", \"Desviados\", \"Cancelados\"],porcientos)    \n",
    "plt.show()"
   ]
  },
  {
   "cell_type": "markdown",
   "id": "8e852722",
   "metadata": {},
   "source": [
    "Hemos vistola distribución en llegadas, que acumula todos los posibles retrasos, pero Si quisieramos saber la distribucion en salidas solo hay que hacer lo mismo cambiando a FDstatus:"
   ]
  },
  {
   "cell_type": "code",
   "execution_count": 47,
   "id": "d0ecfbc1",
   "metadata": {},
   "outputs": [
    {
     "data": {
      "image/png": "[encoded data removed]",
      "text/plain": [
       "<Figure size 1080x360 with 2 Axes>"
      ]
     },
     "metadata": {
      "needs_background": "light"
     },
     "output_type": "display_data"
    }
   ],
   "source": [
    "fig, (ax1, ax2) = plt.subplots(ncols=2, figsize=(15, 5)) \n",
    "counts = df[\"FDstatus\"].value_counts()\n",
    "total = counts.sum()\n",
    "porcientos = counts / total * 100\n",
    "ax1.set_title(\"Porcentajes de cada tipo\")                                 \n",
    "ax1.pie(porcientos, labels = [\"<15 min\", \"15-60 min\", \">60 min\", \"Desviados\", \"Cancelados\"], autopct='%1.1f%%')                             \n",
    "ax2.set_title(\"Porcentajes de cada tipo\")       \n",
    "ax2.bar([\"<15 min\", \"15-60 min\", \">60 min\", \"Desviados\", \"Cancelados\"],porcientos)    \n",
    "plt.show()"
   ]
  },
  {
   "cell_type": "markdown",
   "id": "2a7e2188",
   "metadata": {},
   "source": [
    "Vemos que:\n",
    "- los retrasos inferiores a 15 min en son porcentualemnte superiores en salidas que en las llegadas, lo que hace pensar que se recuperan algunos retrasos a llegada durnate el vuelo.\n",
    "- los retrasos de 15 min o superiores, son inferiores porentualemente en salidas que en llegadas lo que hace pensar que es mas dificil de recuperar.  "
   ]
  },
  {
   "cell_type": "markdown",
   "id": "82d0e748",
   "metadata": {},
   "source": [
    "##### - Retrasos: ¿Cuales son los meses con mas retrasos?"
   ]
  },
  {
   "cell_type": "code",
   "execution_count": 48,
   "id": "a0638a5b",
   "metadata": {},
   "outputs": [
    {
     "data": {
      "image/png": "[encoded data removed]",
      "text/plain": [
       "<Figure size 1080x360 with 1 Axes>"
      ]
     },
     "metadata": {
      "needs_background": "light"
     },
     "output_type": "display_data"
    }
   ],
   "source": [
    "Calendario = [\"Enero\", \"Febrero\", \"Marzo\", \"Abril\", \"Mayo\", \"Junio\", \"Julio\", \"Agosto\", \"Septiembre\", \"Octubre\", \"Noviembre\", \"Diciembre\"]\n",
    "Retrasos_mes = df[\"ArrDelay\"].groupby(df[\"Depdate\"].dt.month).count()   # Calculo la cantidad de retrnasos por me. Tengo que poner .dt porque sino no encuentra el mes\n",
    "\n",
    "fig, ax = plt.subplots(figsize = (15,5))\n",
    "ax.bar(Retrasos_mes.index, Retrasos_mes)\n",
    "ax.set_xticks(range(1, 13))\n",
    "ax.set_xticklabels(Calendario)\n",
    "ax.set_ylabel(\"Retrasos por mes\")\n",
    "ax.set_title(\"Retrasos por mes\")\n",
    "plt.show()"
   ]
  },
  {
   "cell_type": "markdown",
   "id": "13975039",
   "metadata": {},
   "source": [
    "Observamos en Diciembre, marzo y Junio los meses de mayor retraso."
   ]
  },
  {
   "cell_type": "markdown",
   "id": "4ef348cc",
   "metadata": {},
   "source": [
    "Si queremos ver si coinciden con los meses de mas vuelos, dibujo una curva encima con la cantidad de vuelos por mes:"
   ]
  },
  {
   "cell_type": "code",
   "execution_count": 49,
   "id": "03d63a7e",
   "metadata": {},
   "outputs": [
    {
     "data": {
      "image/png": "[encoded data removed]",
      "text/plain": [
       "<Figure size 1440x360 with 2 Axes>"
      ]
     },
     "metadata": {
      "needs_background": "light"
     },
     "output_type": "display_data"
    }
   ],
   "source": [
    "Calendario = [\"Enero\", \"Febrero\", \"Marzo\", \"Abril\", \"Mayo\", \"Junio\", \"Julio\", \"Agosto\", \"Septiembre\", \"Octubre\", \"Noviembre\", \"Diciembre\"]\n",
    "Retrasos_mes = df[\"ArrDelay\"].groupby(df[\"Depdate\"].dt.month).count()   # Calculo la cantidad de retrnasos por me. Tengo que poner .dt porque sino no encuentra el mes\n",
    "Vuelos_mes = df.groupby(df[\"Depdate\"].dt.month)[\"Depdate\"].count() # Calculo el numero de vuelos por mes de la columna Depdate (podría ahcerlo de la columna UniqueCarrier pero en el fondo da igual porqeu es el número de registros)\n",
    "\n",
    "fig, (ax1, ax2) = plt.subplots(ncols=2, figsize=(20, 5)) \n",
    "ax1.set_title(\"Retrasos por mes\")\n",
    "ax1.bar(Retrasos_mes.index, Retrasos_mes)\n",
    "ax1.set_xticks(range(1, 13))\n",
    "ax1.set_xticklabels(Calendario)\n",
    "ax1.set_ylabel(\"Retrasos\")\n",
    "\n",
    "ax2.set_title(\"Vuelos por mes\")\n",
    "ax2.plot(Vuelos_mes.index, Vuelos_mes)\n",
    "ax2.set_xticks(range(1, 13))\n",
    "ax2.set_xticklabels(Calendario)\n",
    "ax2.set_ylabel(\"Vuelos\")\n",
    "                                     \n",
    "plt.show()"
   ]
  },
  {
   "cell_type": "markdown",
   "id": "89169d7e",
   "metadata": {},
   "source": [
    "Como podemos ver, los meses que mas retrasos hay son tambien los meses de mas afluencia de vuelos."
   ]
  },
  {
   "cell_type": "markdown",
   "id": "a8f06996",
   "metadata": {},
   "source": [
    "##### - Retrasos: ¿Cuales son los dias de las semanas con mas retrasos?"
   ]
  },
  {
   "cell_type": "markdown",
   "id": "25a0f407",
   "metadata": {},
   "source": [
    "En la grafica de abajo en la de la izquierda se ve la cantidad de vuelos rertasados por dia de la semana, y en la otra, el acumulado de minutos en retraso por dia de la semana, porque pudiera ser que hubiera dias que se retrasen muchos vuelos pero los tiempos de retraso no sean tan improntantes (p.e.)"
   ]
  },
  {
   "cell_type": "code",
   "execution_count": 50,
   "id": "9d2e5cf9",
   "metadata": {},
   "outputs": [
    {
     "data": {
      "image/png": "[encoded data removed]",
      "text/plain": [
       "<Figure size 1440x360 with 2 Axes>"
      ]
     },
     "metadata": {
      "needs_background": "light"
     },
     "output_type": "display_data"
    }
   ],
   "source": [
    "Semana = [\"Lunes\", \"Martes\", \"Miercoles\", \"Jueves\", \"Viernes\", \"Sabado\", \"Domingo\"]\n",
    "Vuelos_retxdia = df[\"ArrDelay\"].groupby(df[\"DayOfWeek\"]).count()\n",
    "Min_acum_retxdia = df[\"ArrDelay\"].groupby(df[\"DayOfWeek\"]).sum()\n",
    "fig, (ax1, ax2) = plt.subplots(ncols=2, figsize=(20, 5)) \n",
    "ax1.set_title(\"Vuelos retrasados por dia\")\n",
    "ax1.bar(Vuelos_retxdia.index, Vuelos_retxdia)\n",
    "ax1.set_xticks(range(1, 8))\n",
    "ax1.set_xticklabels(Semana)\n",
    "ax1.set_ylabel(\"Vuelos\")\n",
    "\n",
    "ax2.set_title(\"Minutos acumulados de retraso por dia\")\n",
    "ax2.bar(Min_acum_retxdia.index, Min_acum_retxdia)\n",
    "ax2.set_xticks(range(1, 8))\n",
    "ax2.set_xticklabels(Semana)\n",
    "ax2.set_ylabel(\"Mill. Minutos\")\n",
    "plt.show()"
   ]
  },
  {
   "cell_type": "markdown",
   "id": "efbb624c",
   "metadata": {},
   "source": [
    "Los dias de la semana con mas retrasos son los Viernes, que además acumulan la mayor cantidad de minutos de retraso. Los miercoles tienen cantidad similar de vuelos retrasados que los Martes, pero acumulan menos minutos de retraso."
   ]
  },
  {
   "cell_type": "markdown",
   "id": "8429f6ab",
   "metadata": {},
   "source": [
    "##### - Retrasos: ¿Cuales son las horas con mas retrasos?"
   ]
  },
  {
   "cell_type": "code",
   "execution_count": 51,
   "id": "c1072a81",
   "metadata": {},
   "outputs": [
    {
     "data": {
      "image/png": "[encoded data removed]",
      "text/plain": [
       "<Figure size 1440x360 with 2 Axes>"
      ]
     },
     "metadata": {
      "needs_background": "light"
     },
     "output_type": "display_data"
    }
   ],
   "source": [
    "# primero voy a crear una columna que crea registros donde redondea las horas de lo vuelos al de horas enteras mas cercanas\n",
    "Dep_hora = pd.to_datetime(df[\"DepTime\"], format=\"%H%M\", errors=\"coerce\").dt.round(\"H\").dt.hour\n",
    "# Agrupo los retrasos por la columna de horas mas cercanas y cuento los registros por hora\n",
    "Ret_hora = df[\"ArrDelay\"].groupby(Dep_hora).count()\n",
    "Ret_acumhora = df[\"ArrDelay\"].groupby(Dep_hora).sum()\n",
    "\n",
    "fig, (ax1, ax2) = plt.subplots(ncols=2, figsize=(20, 5))  # Grafico los retrasos por horas y los timepos de retraso acumulados por horas\n",
    "ax1.set_title(\"Retrasos por horas\")\n",
    "ax1.bar(Ret_hora.index, Ret_hora)\n",
    "ax1.set_xticks(range(24))\n",
    "ax1.set_xlabel(\"Hora de salida\")\n",
    "ax1.set_ylabel(\"Retrasos\")\n",
    "\n",
    "ax2.set_title(\"Tiempos de retraso acumulados por horas\")\n",
    "ax2.bar(Ret_acumhora.index, Ret_acumhora)\n",
    "ax2.set_xticks(range(24))\n",
    "ax2.set_xlabel(\"Hora de salida\")\n",
    "ax2.set_ylabel(\"Tiempos acumulados de retraso\")\n",
    "plt.show()"
   ]
  },
  {
   "cell_type": "markdown",
   "id": "bde359e4",
   "metadata": {},
   "source": [
    "Viendo lso dos graficos no solo sabemos que hay mas retrasos por la tarde siendo el pico de retrasos alrededor de lsa 18 h, sino que estos retraos tienen un efecto de dominó de propagación del retraso que tiene su pico a alrededor de las 20 h donde la acumulación de retrasos es muy alta."
   ]
  },
  {
   "cell_type": "markdown",
   "id": "5154913f",
   "metadata": {},
   "source": [
    "##### - Cancelaciones:  ¿Cuales son los meses con mas cancelaciones?"
   ]
  },
  {
   "cell_type": "code",
   "execution_count": 52,
   "id": "bcb9de50",
   "metadata": {},
   "outputs": [
    {
     "data": {
      "image/png": "[encoded data removed]",
      "text/plain": [
       "<Figure size 1080x360 with 1 Axes>"
      ]
     },
     "metadata": {
      "needs_background": "light"
     },
     "output_type": "display_data"
    }
   ],
   "source": [
    "Calendario = [\"Enero\", \"Febrero\", \"Marzo\", \"Abril\", \"Mayo\", \"Junio\", \"Julio\", \"Agosto\", \"Septiembre\", \"Octubre\", \"Noviembre\", \"Diciembre\"]\n",
    "Cancelaciones_mes = df[df[\"Cancelled\"]==1].groupby(df[\"Depdate\"].dt.month)[\"Cancelled\"].sum()   # Calculo la cantidad de retrnasos por me. Tengo que poner .dt porque sino no encuentra el mes\n",
    "fig, ax = plt.subplots(figsize = (15,5))\n",
    "ax.bar(Cancelaciones_mes.index, Cancelaciones_mes)\n",
    "ax.set_xticks(range(1, 13))\n",
    "ax.set_xticklabels(Calendario)\n",
    "ax.set_ylabel(\"Cancelaciones\")\n",
    "ax.set_title(\"Cancelaciones por mes\")\n",
    "plt.show()"
   ]
  },
  {
   "cell_type": "code",
   "execution_count": 53,
   "id": "792703ea",
   "metadata": {},
   "outputs": [
    {
     "data": {
      "text/plain": [
       "0    199942\n",
       "1        58\n",
       "Name: Cancelled, dtype: int64"
      ]
     },
     "execution_count": 53,
     "metadata": {},
     "output_type": "execute_result"
    }
   ],
   "source": [
    "df[\"Cancelled\"].value_counts()"
   ]
  },
  {
   "cell_type": "markdown",
   "id": "025cdac9",
   "metadata": {},
   "source": [
    "Es decir, que solo hay registro de cancelaciones de Octubre a Diciembre con un total de 78 de las cuales la mayor parte se produjeron en Diciembre."
   ]
  },
  {
   "cell_type": "markdown",
   "id": "6d63b99c",
   "metadata": {},
   "source": [
    "##### - Cancelaciones: ¿Cuales son los dias de las semanas con más cancelaciones?"
   ]
  },
  {
   "cell_type": "code",
   "execution_count": 54,
   "id": "ddf34a3d",
   "metadata": {},
   "outputs": [
    {
     "data": {
      "image/png": "[encoded data removed]",
      "text/plain": [
       "<Figure size 1080x360 with 1 Axes>"
      ]
     },
     "metadata": {
      "needs_background": "light"
     },
     "output_type": "display_data"
    }
   ],
   "source": [
    "Cancelaciones_dia = df[df[\"Cancelled\"]==1].groupby(df[\"DayOfWeek\"])[\"Cancelled\"].sum()\n",
    "fig, ax = plt.subplots(figsize=(15, 5)) \n",
    "ax.set_title(\"Cancelaciones por dia de la semana\")\n",
    "ax.bar(Cancelaciones_dia.index, Cancelaciones_dia)\n",
    "ax.set_xticks(range(1, 8))\n",
    "ax.set_xticklabels(Semana)\n",
    "ax.set_ylabel(\"Cancelaciones\")\n",
    "plt.show()"
   ]
  },
  {
   "cell_type": "markdown",
   "id": "4ae36607",
   "metadata": {},
   "source": [
    "Los días con mas cancelaciones son Martes y Sábado."
   ]
  },
  {
   "cell_type": "markdown",
   "id": "b9b351b4",
   "metadata": {},
   "source": [
    "##### - Cancelaciones: ¿A qué horas hay más cancelaciones?"
   ]
  },
  {
   "cell_type": "code",
   "execution_count": 55,
   "id": "35f45c98",
   "metadata": {},
   "outputs": [
    {
     "data": {
      "image/png": "[encoded data removed]",
      "text/plain": [
       "<Figure size 1080x360 with 1 Axes>"
      ]
     },
     "metadata": {
      "needs_background": "light"
     },
     "output_type": "display_data"
    }
   ],
   "source": [
    "# primero voy a redondear \n",
    "df[\"Dep_hour\"] = pd.to_datetime(df[\"DepTime\"], format=\"%H%M\", errors=\"coerce\").dt.round(\"H\").dt.hour\n",
    "# count cancellations by hour\n",
    "Cancelaciones_hora = df[df[\"Cancelled\"]==1].groupby(\"Dep_hour\")[\"Cancelled\"].sum()\n",
    "\n",
    "# create bar plot\n",
    "fig, ax = plt.subplots(figsize=(15, 5)) \n",
    "ax.set_title(\"Cancelaciones por horas\")\n",
    "ax.bar(Cancelaciones_hora.index, Cancelaciones_hora)\n",
    "ax.set_xticks(range(24))\n",
    "ax.set_xlabel(\"Hora de salida\")\n",
    "ax.set_ylabel(\"Cancelaciones\")\n",
    "plt.show()"
   ]
  },
  {
   "cell_type": "markdown",
   "id": "fa18c333",
   "metadata": {},
   "source": [
    "Vemos que se poroducen picos muy significativos de cancelaciones alrededor de las 10h y de a las 20h."
   ]
  },
  {
   "cell_type": "markdown",
   "id": "4fffe8af",
   "metadata": {},
   "source": [
    "##### - Cancelaciones: ¿Cuales se cancelan mas, los de larga o corta distancia?"
   ]
  },
  {
   "cell_type": "code",
   "execution_count": 56,
   "id": "38833c02",
   "metadata": {},
   "outputs": [
    {
     "data": {
      "image/png": "[encoded data removed]",
      "text/plain": [
       "<Figure size 1080x360 with 1 Axes>"
      ]
     },
     "metadata": {
      "needs_background": "light"
     },
     "output_type": "display_data"
    }
   ],
   "source": [
    "cancel_xdist = df[df[\"Cancelled\"] == 1].groupby(\"Distance\")[\"Cancelled\"].count()\n",
    "fig, ax = plt.subplots(figsize=(15, 5))\n",
    "ax.set_title(\"Cancelaciones por distancia\")\n",
    "ax.bar(cancel_xdist.index, cancel_xdist)\n",
    "ax.set_xlabel(\"Distancia\")\n",
    "ax.set_ylabel(\"Cantidad de cancelaciones\")\n",
    "plt.show()"
   ]
  },
  {
   "cell_type": "markdown",
   "id": "81d3109d",
   "metadata": {},
   "source": [
    "En realidad no hay datos suficientes para poder concluir algo, pero con los datos que tenemos hay mas cancelaciones en corta distancia, auqnue tambien hay mas vuelos como hemos comrpobado antes."
   ]
  },
  {
   "cell_type": "markdown",
   "id": "47ea849a",
   "metadata": {},
   "source": [
    "##### - Cancelaciones: ¿A partir de cuanto tiempo de taxiOut hay alta probabilidad de que cancelen el despegue?"
   ]
  },
  {
   "cell_type": "code",
   "execution_count": 57,
   "id": "196e7b9e",
   "metadata": {},
   "outputs": [
    {
     "data": {
      "image/png": "[encoded data removed]",
      "text/plain": [
       "<Figure size 1080x360 with 1 Axes>"
      ]
     },
     "metadata": {
      "needs_background": "light"
     },
     "output_type": "display_data"
    }
   ],
   "source": [
    "Cancelaciones_taxiOut = df[df[\"Cancelled\"]==1].groupby(\"TaxiOut\")[\"Cancelled\"].sum()\n",
    "fig, ax = plt.subplots(figsize=(15, 5)) \n",
    "ax.set_title(\"Cancelaciones vs TaxiOut\")\n",
    "ax.bar(Cancelaciones_taxiOut.index, Cancelaciones_taxiOut)\n",
    "ax.set_xlabel(\"Tiempo de TaxiOut\")\n",
    "ax.set_ylabel(\"Cancelaciones\")\n",
    "plt.show()"
   ]
  },
  {
   "cell_type": "markdown",
   "id": "ae5a0573",
   "metadata": {},
   "source": [
    "Vemos que se producen mas cancelaciones con tiempos de TaxiOut relativamente pequeños, aunque neuvamente la muestra de cancelaciones no es significativa."
   ]
  },
  {
   "cell_type": "markdown",
   "id": "bb90dad7",
   "metadata": {},
   "source": [
    "##### -Cancelaciones: ¿Cual es la distribución porcentual de las causas de cancelaciones?"
   ]
  },
  {
   "cell_type": "code",
   "execution_count": 58,
   "id": "2d0b8437",
   "metadata": {
    "scrolled": true
   },
   "outputs": [
    {
     "data": {
      "image/png": "[encoded data removed]",
      "text/plain": [
       "<Figure size 1080x360 with 2 Axes>"
      ]
     },
     "metadata": {
      "needs_background": "light"
     },
     "output_type": "display_data"
    }
   ],
   "source": [
    "fig, (ax1, ax2) = plt.subplots(ncols=2, figsize=(15, 5)) \n",
    "counts = df[\"CancellationCode\"].value_counts()\n",
    "total = counts.sum()\n",
    "porcientos = counts / total * 100\n",
    "ax1.set_title(\"Porcentajes de cada tipo\")                                 \n",
    "ax1.pie(porcientos, labels = [\"A = CarrierDelay\", \"B = WeatherDelay\", \"C = NASDelay\",\" D = SecurityDelay\"], autopct='%1.1f%%')                             \n",
    "ax2.set_title(\"Porcentajes de cada tipo\")       \n",
    "ax2.bar([\"A = CarrierDelay\", \"B = WeatherDelay\", \"C = NASDelay\",\" D = SecurityDelay\"],porcientos)    \n",
    "plt.show()"
   ]
  },
  {
   "cell_type": "markdown",
   "id": "22567169",
   "metadata": {},
   "source": [
    "Al parecer solo se está dando una causa, CarrierDelay en la muestra."
   ]
  },
  {
   "cell_type": "markdown",
   "id": "a116b541",
   "metadata": {},
   "source": [
    "##### - Desvios: ¿De los vuelos retrasados cuantos son desviados?"
   ]
  },
  {
   "cell_type": "code",
   "execution_count": 59,
   "id": "323d1595",
   "metadata": {},
   "outputs": [
    {
     "data": {
      "text/plain": [
       "Series([], Name: ArrDelay, dtype: int64)"
      ]
     },
     "execution_count": 59,
     "metadata": {},
     "output_type": "execute_result"
    }
   ],
   "source": [
    "df[df[\"Diverted\"]==1][\"ArrDelay\"].value_counts()  #cuenta todos los valores únicos en la columna \"ArrDelay\" que corresponden a filas donde \"Diverted\" vale 1"
   ]
  },
  {
   "cell_type": "markdown",
   "id": "59051bdf",
   "metadata": {},
   "source": [
    "Como hemos visto antes, no se ha desviado ninguno, pero lo he hecho para practicar."
   ]
  }
 ],
 "metadata": {
  "kernelspec": {
   "display_name": "Python 3 (ipykernel)",
   "language": "python",
   "name": "python3"
  },
  "language_info": {
   "codemirror_mode": {
    "name": "ipython",
    "version": 3
   },
   "file_extension": ".py",
   "mimetype": "text/x-python",
   "name": "python",
   "nbconvert_exporter": "python",
   "pygments_lexer": "ipython3",
   "version": "3.9.12"
  }
 },
 "nbformat": 4,
 "nbformat_minor": 5
}
